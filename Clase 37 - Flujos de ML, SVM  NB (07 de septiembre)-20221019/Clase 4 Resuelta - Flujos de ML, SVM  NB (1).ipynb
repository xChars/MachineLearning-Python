{
 "cells": [
  {
   "cell_type": "markdown",
   "metadata": {
    "colab_type": "text",
    "id": "kJUHN78B1SFj"
   },
   "source": [
    "# Clase 4: Flujos de ML, Naive Bayes y SVM\n",
    "### Diplomado en Data Science UC 2022\n",
    "\n",
    "---\n",
    "\n",
    "Las próximas semanas estudiaremos distintas técnicas de Machine Learning. Esta clase, estudiaremos una serie de técnicas que son transversales para todos los procesos de creación y evaluación de un **modelo**. Además, conoceremos la implementación de los modelos Naive Bayes y Support Vector Machine."
   ]
  },
  {
   "cell_type": "code",
   "execution_count": 1,
   "metadata": {
    "colab": {
     "base_uri": "https://localhost:8080/",
     "height": 71
    },
    "colab_type": "code",
    "id": "B5M6Xgjt6Lxb",
    "outputId": "151c17bf-af9c-4456-f279-5a4b41c8cda2"
   },
   "outputs": [],
   "source": [
    "import numpy as np\n",
    "import pandas as pd\n",
    "\n",
    "import matplotlib.pyplot as plt\n",
    "import seaborn as sns"
   ]
  },
  {
   "cell_type": "markdown",
   "metadata": {
    "colab_type": "text",
    "id": "FjP7kwDBWG4n"
   },
   "source": [
    "## Set de entrenamiento y prueba\n",
    "\n",
    "Los algoritmos de machine learning se caracterizan por procesar un conjunto de datos, extraer patrones de ellos y luego extrapolar esos patrones a situaciones a las que no ha sido expuesto en el pasado. Para evaluar la efectividad de este proceso necesitamos simular esas dos etapas: entrenamiento y validación.\n",
    "- En la etapa de entrenamiento usamos la mayoría de los datos (comunmente entre un 70%-90%) para definir el preprocesamiento necesario (imputar, escalar, features sintéticas, etc) y entrenar.\n",
    "- En la etapa de validación usamos sobre la fracción restante de los datos los procedimientos de preprocesamiento definidos en la etapa anterior (de manera **ciega**). Luego realizamos las predicciones y comparamos los resultados obtenidos con el valor real.\n",
    "\n",
    "Scikit-learn Será una librería tan usada como Pandas, puesto que muchas herramientas de modelación se encuentran en ella. Utilizaremos una función específica para lo anteriormente expuesto llamada `train_test_split` que realizará una separación aleatoria en una fracción especificada."
   ]
  },
  {
   "cell_type": "code",
   "execution_count": 2,
   "metadata": {
    "colab": {
     "base_uri": "https://localhost:8080/",
     "height": 733
    },
    "colab_type": "code",
    "id": "AA2nj8jT6IIk",
    "outputId": "b5464648-d7ca-47d0-9e70-91e4bc72f30d"
   },
   "outputs": [
    {
     "data": {
      "text/html": [
       "<div>\n",
       "<style scoped>\n",
       "    .dataframe tbody tr th:only-of-type {\n",
       "        vertical-align: middle;\n",
       "    }\n",
       "\n",
       "    .dataframe tbody tr th {\n",
       "        vertical-align: top;\n",
       "    }\n",
       "\n",
       "    .dataframe thead th {\n",
       "        text-align: right;\n",
       "    }\n",
       "</style>\n",
       "<table border=\"1\" class=\"dataframe\">\n",
       "  <thead>\n",
       "    <tr style=\"text-align: right;\">\n",
       "      <th></th>\n",
       "      <th>x1</th>\n",
       "      <th>x2</th>\n",
       "      <th>x3</th>\n",
       "      <th>y</th>\n",
       "    </tr>\n",
       "  </thead>\n",
       "  <tbody>\n",
       "    <tr>\n",
       "      <th>0</th>\n",
       "      <td>0.009359</td>\n",
       "      <td>0.499058</td>\n",
       "      <td>0.113384</td>\n",
       "      <td>-2.148843</td>\n",
       "    </tr>\n",
       "    <tr>\n",
       "      <th>1</th>\n",
       "      <td>0.049974</td>\n",
       "      <td>0.685408</td>\n",
       "      <td>0.486988</td>\n",
       "      <td>-3.189590</td>\n",
       "    </tr>\n",
       "    <tr>\n",
       "      <th>2</th>\n",
       "      <td>0.897657</td>\n",
       "      <td>0.647452</td>\n",
       "      <td>0.896963</td>\n",
       "      <td>-2.321416</td>\n",
       "    </tr>\n",
       "    <tr>\n",
       "      <th>3</th>\n",
       "      <td>0.721135</td>\n",
       "      <td>0.831353</td>\n",
       "      <td>0.827568</td>\n",
       "      <td>-3.005155</td>\n",
       "    </tr>\n",
       "    <tr>\n",
       "      <th>4</th>\n",
       "      <td>0.833580</td>\n",
       "      <td>0.957044</td>\n",
       "      <td>0.368044</td>\n",
       "      <td>-2.386678</td>\n",
       "    </tr>\n",
       "    <tr>\n",
       "      <th>5</th>\n",
       "      <td>0.494838</td>\n",
       "      <td>0.339509</td>\n",
       "      <td>0.619429</td>\n",
       "      <td>-1.418380</td>\n",
       "    </tr>\n",
       "    <tr>\n",
       "      <th>6</th>\n",
       "      <td>0.977530</td>\n",
       "      <td>0.096433</td>\n",
       "      <td>0.744206</td>\n",
       "      <td>0.166058</td>\n",
       "    </tr>\n",
       "    <tr>\n",
       "      <th>7</th>\n",
       "      <td>0.292499</td>\n",
       "      <td>0.298675</td>\n",
       "      <td>0.752473</td>\n",
       "      <td>-1.975427</td>\n",
       "    </tr>\n",
       "    <tr>\n",
       "      <th>8</th>\n",
       "      <td>0.018664</td>\n",
       "      <td>0.523737</td>\n",
       "      <td>0.864436</td>\n",
       "      <td>-3.618806</td>\n",
       "    </tr>\n",
       "    <tr>\n",
       "      <th>9</th>\n",
       "      <td>0.388843</td>\n",
       "      <td>0.212192</td>\n",
       "      <td>0.475181</td>\n",
       "      <td>-1.055761</td>\n",
       "    </tr>\n",
       "  </tbody>\n",
       "</table>\n",
       "</div>"
      ],
      "text/plain": [
       "         x1        x2        x3         y\n",
       "0  0.009359  0.499058  0.113384 -2.148843\n",
       "1  0.049974  0.685408  0.486988 -3.189590\n",
       "2  0.897657  0.647452  0.896963 -2.321416\n",
       "3  0.721135  0.831353  0.827568 -3.005155\n",
       "4  0.833580  0.957044  0.368044 -2.386678\n",
       "5  0.494838  0.339509  0.619429 -1.418380\n",
       "6  0.977530  0.096433  0.744206  0.166058\n",
       "7  0.292499  0.298675  0.752473 -1.975427\n",
       "8  0.018664  0.523737  0.864436 -3.618806\n",
       "9  0.388843  0.212192  0.475181 -1.055761"
      ]
     },
     "metadata": {},
     "output_type": "display_data"
    }
   ],
   "source": [
    "np.random.seed(2022)\n",
    "df = pd.DataFrame(data=np.random.rand(10, 3), columns=[\"x1\", \"x2\", \"x3\"])\n",
    "df[\"y\"] = (\n",
    "    2 * df[\"x1\"] - 3.5 * df[\"x2\"] - 2 * df[\"x3\"] + np.random.normal(size=10, scale=0.1)\n",
    ")\n",
    "display(df)"
   ]
  },
  {
   "cell_type": "code",
   "execution_count": 3,
   "metadata": {},
   "outputs": [
    {
     "name": "stdout",
     "output_type": "stream",
     "text": [
      "Predictores:\n"
     ]
    },
    {
     "data": {
      "text/html": [
       "<div>\n",
       "<style scoped>\n",
       "    .dataframe tbody tr th:only-of-type {\n",
       "        vertical-align: middle;\n",
       "    }\n",
       "\n",
       "    .dataframe tbody tr th {\n",
       "        vertical-align: top;\n",
       "    }\n",
       "\n",
       "    .dataframe thead th {\n",
       "        text-align: right;\n",
       "    }\n",
       "</style>\n",
       "<table border=\"1\" class=\"dataframe\">\n",
       "  <thead>\n",
       "    <tr style=\"text-align: right;\">\n",
       "      <th></th>\n",
       "      <th>x1</th>\n",
       "      <th>x2</th>\n",
       "      <th>x3</th>\n",
       "    </tr>\n",
       "  </thead>\n",
       "  <tbody>\n",
       "    <tr>\n",
       "      <th>0</th>\n",
       "      <td>0.009359</td>\n",
       "      <td>0.499058</td>\n",
       "      <td>0.113384</td>\n",
       "    </tr>\n",
       "    <tr>\n",
       "      <th>1</th>\n",
       "      <td>0.049974</td>\n",
       "      <td>0.685408</td>\n",
       "      <td>0.486988</td>\n",
       "    </tr>\n",
       "    <tr>\n",
       "      <th>2</th>\n",
       "      <td>0.897657</td>\n",
       "      <td>0.647452</td>\n",
       "      <td>0.896963</td>\n",
       "    </tr>\n",
       "    <tr>\n",
       "      <th>3</th>\n",
       "      <td>0.721135</td>\n",
       "      <td>0.831353</td>\n",
       "      <td>0.827568</td>\n",
       "    </tr>\n",
       "    <tr>\n",
       "      <th>4</th>\n",
       "      <td>0.833580</td>\n",
       "      <td>0.957044</td>\n",
       "      <td>0.368044</td>\n",
       "    </tr>\n",
       "    <tr>\n",
       "      <th>5</th>\n",
       "      <td>0.494838</td>\n",
       "      <td>0.339509</td>\n",
       "      <td>0.619429</td>\n",
       "    </tr>\n",
       "    <tr>\n",
       "      <th>6</th>\n",
       "      <td>0.977530</td>\n",
       "      <td>0.096433</td>\n",
       "      <td>0.744206</td>\n",
       "    </tr>\n",
       "    <tr>\n",
       "      <th>7</th>\n",
       "      <td>0.292499</td>\n",
       "      <td>0.298675</td>\n",
       "      <td>0.752473</td>\n",
       "    </tr>\n",
       "    <tr>\n",
       "      <th>8</th>\n",
       "      <td>0.018664</td>\n",
       "      <td>0.523737</td>\n",
       "      <td>0.864436</td>\n",
       "    </tr>\n",
       "    <tr>\n",
       "      <th>9</th>\n",
       "      <td>0.388843</td>\n",
       "      <td>0.212192</td>\n",
       "      <td>0.475181</td>\n",
       "    </tr>\n",
       "  </tbody>\n",
       "</table>\n",
       "</div>"
      ],
      "text/plain": [
       "         x1        x2        x3\n",
       "0  0.009359  0.499058  0.113384\n",
       "1  0.049974  0.685408  0.486988\n",
       "2  0.897657  0.647452  0.896963\n",
       "3  0.721135  0.831353  0.827568\n",
       "4  0.833580  0.957044  0.368044\n",
       "5  0.494838  0.339509  0.619429\n",
       "6  0.977530  0.096433  0.744206\n",
       "7  0.292499  0.298675  0.752473\n",
       "8  0.018664  0.523737  0.864436\n",
       "9  0.388843  0.212192  0.475181"
      ]
     },
     "metadata": {},
     "output_type": "display_data"
    },
    {
     "name": "stdout",
     "output_type": "stream",
     "text": [
      "Variable respuesta:\n"
     ]
    },
    {
     "data": {
      "text/plain": [
       "0   -2.148843\n",
       "1   -3.189590\n",
       "2   -2.321416\n",
       "3   -3.005155\n",
       "4   -2.386678\n",
       "5   -1.418380\n",
       "6    0.166058\n",
       "7   -1.975427\n",
       "8   -3.618806\n",
       "9   -1.055761\n",
       "Name: y, dtype: float64"
      ]
     },
     "metadata": {},
     "output_type": "display_data"
    },
    {
     "name": "stdout",
     "output_type": "stream",
     "text": [
      "Dimensiones X_train: (7, 3)\n",
      "Dimensiones X_test : (3, 3)\n",
      "Dimensiones y_train: (7,)\n",
      "Dimensiones y_test : (3,)\n"
     ]
    }
   ],
   "source": [
    "from sklearn.model_selection import train_test_split\n",
    "\n",
    "X = df[[\"x1\", \"x2\", \"x3\"]]  # Predictores\n",
    "y = df[\"y\"]                 # Variable respuesta\n",
    "\n",
    "print(\"Predictores:\")\n",
    "display(X)\n",
    "print(\"Variable respuesta:\")\n",
    "display(y)\n",
    "\n",
    "# Separo en 70% entrenamiento y 30% testeo\n",
    "X_train, X_test, y_train, y_test = train_test_split(X, y, test_size=0.3, random_state=2022)\n",
    "print(\"Dimensiones X_train:\", X_train.shape)\n",
    "print(\"Dimensiones X_test :\", X_test.shape)\n",
    "print(\"Dimensiones y_train:\", y_train.shape)\n",
    "print(\"Dimensiones y_test :\", y_test.shape)"
   ]
  },
  {
   "cell_type": "markdown",
   "metadata": {},
   "source": [
    "Si desea generar datos de entrenamiento y prueba con datos de carácter secuencial como las series de tiempo, es necesario agregar el argumento `shuffle=False` a la función `train_test_split` para mantener el orden de los datos."
   ]
  },
  {
   "cell_type": "markdown",
   "metadata": {},
   "source": [
    "## Introducción a Scikit-Learn\n",
    "\n",
    "Documentación: <https://scikit-learn.org/stable/user_guide.html>.\n",
    "\n",
    "Si bien ya hemos usado algunas funciones de Scikit-Learn para separar datos en entrenamiento y testeo, el corazón de esta librería son todas las funcionalidades que existen desde el preprocesamiento de datos hasta la validación de los modelos."
   ]
  },
  {
   "cell_type": "markdown",
   "metadata": {},
   "source": [
    "Scikit-Learn es una librería cuya característica principal es el orden. Las funcionalidades que mantienen características en común están ubicadas en módulos distintos dentro de esta librería.\n",
    "\n",
    "Uno de los aspectos que hace que Scikit-Learn sea tan querido, es que su forma de uso es bastante estándar independiente de la funcionalidad que estémos usando. Veamos algunos ejemplos."
   ]
  },
  {
   "cell_type": "markdown",
   "metadata": {},
   "source": [
    "### Modelo de Regresión Lineal"
   ]
  },
  {
   "cell_type": "code",
   "execution_count": 4,
   "metadata": {},
   "outputs": [
    {
     "name": "stdout",
     "output_type": "stream",
     "text": [
      "R^2: 0.9724287947118486\n"
     ]
    }
   ],
   "source": [
    "from sklearn.linear_model import LinearRegression\n",
    "\n",
    "# Instanciamos funcionalidad\n",
    "modelo = LinearRegression()\n",
    "# Ajustamos modelo con datos de entrenamiento\n",
    "modelo.fit(X_train, y_train)\n",
    "# Vemos métrica en testeo\n",
    "print(\"R^2:\", modelo.score(X_test, y_test))\n",
    "# Generamos predicciones\n",
    "predicciones = modelo.predict(X_test)"
   ]
  },
  {
   "cell_type": "markdown",
   "metadata": {},
   "source": [
    "### Árbol de Decisión"
   ]
  },
  {
   "cell_type": "code",
   "execution_count": 5,
   "metadata": {},
   "outputs": [
    {
     "name": "stdout",
     "output_type": "stream",
     "text": [
      "R^2: -0.8405647388592965\n"
     ]
    }
   ],
   "source": [
    "from sklearn.tree import DecisionTreeRegressor\n",
    "\n",
    "# Instanciamos funcionalidad\n",
    "modelo = DecisionTreeRegressor()\n",
    "# Ajustamos modelo con datos de entrenamiento\n",
    "modelo.fit(X_train, y_train)\n",
    "# Vemos métrica en testeo\n",
    "print(\"R^2:\", modelo.score(X_test, y_test))\n",
    "# Generamos predicciones\n",
    "predicciones = modelo.predict(X_test)"
   ]
  },
  {
   "cell_type": "markdown",
   "metadata": {},
   "source": [
    "¡Y será bastante similar con los modelos y técnicas que vayamos aprendiendo!"
   ]
  },
  {
   "cell_type": "markdown",
   "metadata": {
    "colab_type": "text",
    "id": "ELSq1IRL6ABS"
   },
   "source": [
    "\n",
    "\n",
    "## Feature engineering\n",
    "\n",
    "Los datos, tal y como son recolectados, rara vez están en un una forma efectiva para el aprendizaje del modelo. Además del proceso de limpieza normal de una base de datos, existe una serie de transformaciones que mejoran el performance de las predicciones.\n",
    "\n",
    "### Scaling\n",
    "\n",
    "Muchos algoritmos de Machine Learning se benefician de que las features de entrada tengan valores de tamaño similar y que dichos valores no sean extremos. Dos transformaciones comunes son:\n",
    "- Normalización: consiste en llevar todos los valores de una columna al rango [0, 1]. Para esto se aplica la transformación\n",
    "\n",
    "$$\n",
    "x = \\frac{x - x_{min}}{x_{max} - x_{min}}\n",
    "$$\n",
    "\n",
    "- Estandarización: consiste en transformar los datos de manera que estén centrados y relativamente concentrados en cero. Hacemos esto forzando que su media sea 0 y varianza 1 usando la siguiente transformación:\n",
    "$$\n",
    "x = \\frac{x - \\mu}{\\sigma}\n",
    "$$\n",
    "En `scikit-learn` usamos\n",
    "\n"
   ]
  },
  {
   "cell_type": "code",
   "execution_count": 6,
   "metadata": {
    "colab": {
     "base_uri": "https://localhost:8080/",
     "height": 235
    },
    "colab_type": "code",
    "id": "jylMTfC_8td4",
    "outputId": "0645e852-49f7-4f9d-ece7-f3c9ee077390"
   },
   "outputs": [],
   "source": [
    "# Datos originales\n",
    "x = np.random.gamma(shape=2, scale=10, size=(1000, 1))\n",
    "\n",
    "# Datos Normalizados\n",
    "from sklearn.preprocessing import MinMaxScaler\n",
    "norm = MinMaxScaler()      # instanciamos\n",
    "norm.fit(x)                # aprendemos sobre x\n",
    "x_norm = norm.transform(x) # aplicamos transformación a x\n",
    "\n",
    "# Datos Estandarizados\n",
    "from sklearn.preprocessing import StandardScaler\n",
    "stand = StandardScaler()      # instanciamos \n",
    "stand.fit(x)                  # aprendemos sobre x\n",
    "x_stand = stand.transform(x)  # aplicamos transformación a x"
   ]
  },
  {
   "cell_type": "code",
   "execution_count": 7,
   "metadata": {},
   "outputs": [
    {
     "data": {
      "image/png": "[encoded data removed]",
      "text/plain": [
       "<Figure size 1080x288 with 3 Axes>"
      ]
     },
     "metadata": {
      "needs_background": "light"
     },
     "output_type": "display_data"
    }
   ],
   "source": [
    "# Gráficos\n",
    "fig, ax = plt.subplots(ncols=3, figsize=(15,4))\n",
    "# Originales\n",
    "sns.histplot(x, ax=ax[0],kde=True)\n",
    "ax[0].set_title('Data Original')\n",
    "# Normalizados\n",
    "sns.histplot(x_norm, ax=ax[1],kde=True)\n",
    "ax[1].set_title('Data Normalizada')\n",
    "# Estandarizaods\n",
    "sns.histplot(x_stand, ax=ax[2],kde=True)\n",
    "ax[2].set_title('Data Estandarizada');"
   ]
  },
  {
   "cell_type": "markdown",
   "metadata": {
    "colab_type": "text",
    "id": "hz6UJtKm__oT"
   },
   "source": [
    "### One hot encoding o variables dummy\n",
    "\n",
    "Los algoritmos de Machine Learning, en la práctica, son operaciones matemáticas y como tales operan sobre números. Qué pasa cuando tenemos una variable como `ciudad` en el conjunto de datos? Tenemos que encontrar una estrategia para representar dichos *conceptos* como números. En general, esas estrategias se llaman embeddings y cumplen un rol extremadamente importante en aplicaciones de Procesamiento de Lenguaje Natural. En nuestro caso, usaremos la alternativa mas sencilla, llamada One-Hot Encoding o variables dummy. Consiste en representar una variable con N categorías como N vectores, cuyas coordenadas son todas cero salvo una, que identifica a qué categoría pertenece."
   ]
  },
  {
   "cell_type": "code",
   "execution_count": 8,
   "metadata": {
    "colab": {
     "base_uri": "https://localhost:8080/",
     "height": 701
    },
    "colab_type": "code",
    "id": "Qjzh8uqhFN45",
    "outputId": "d92a71d2-610e-4b19-beb8-b4465a3b6cd1"
   },
   "outputs": [
    {
     "name": "stdout",
     "output_type": "stream",
     "text": [
      "Data original:\n"
     ]
    },
    {
     "data": {
      "text/html": [
       "<div>\n",
       "<style scoped>\n",
       "    .dataframe tbody tr th:only-of-type {\n",
       "        vertical-align: middle;\n",
       "    }\n",
       "\n",
       "    .dataframe tbody tr th {\n",
       "        vertical-align: top;\n",
       "    }\n",
       "\n",
       "    .dataframe thead th {\n",
       "        text-align: right;\n",
       "    }\n",
       "</style>\n",
       "<table border=\"1\" class=\"dataframe\">\n",
       "  <thead>\n",
       "    <tr style=\"text-align: right;\">\n",
       "      <th></th>\n",
       "      <th>Ciudad</th>\n",
       "    </tr>\n",
       "  </thead>\n",
       "  <tbody>\n",
       "    <tr>\n",
       "      <th>0</th>\n",
       "      <td>Temuco</td>\n",
       "    </tr>\n",
       "    <tr>\n",
       "      <th>1</th>\n",
       "      <td>Coquimbo</td>\n",
       "    </tr>\n",
       "    <tr>\n",
       "      <th>2</th>\n",
       "      <td>Santiago</td>\n",
       "    </tr>\n",
       "    <tr>\n",
       "      <th>3</th>\n",
       "      <td>Santiago</td>\n",
       "    </tr>\n",
       "    <tr>\n",
       "      <th>4</th>\n",
       "      <td>Santiago</td>\n",
       "    </tr>\n",
       "    <tr>\n",
       "      <th>5</th>\n",
       "      <td>Temuco</td>\n",
       "    </tr>\n",
       "    <tr>\n",
       "      <th>6</th>\n",
       "      <td>Coquimbo</td>\n",
       "    </tr>\n",
       "    <tr>\n",
       "      <th>7</th>\n",
       "      <td>Temuco</td>\n",
       "    </tr>\n",
       "    <tr>\n",
       "      <th>8</th>\n",
       "      <td>Santiago</td>\n",
       "    </tr>\n",
       "    <tr>\n",
       "      <th>9</th>\n",
       "      <td>Coquimbo</td>\n",
       "    </tr>\n",
       "  </tbody>\n",
       "</table>\n",
       "</div>"
      ],
      "text/plain": [
       "     Ciudad\n",
       "0    Temuco\n",
       "1  Coquimbo\n",
       "2  Santiago\n",
       "3  Santiago\n",
       "4  Santiago\n",
       "5    Temuco\n",
       "6  Coquimbo\n",
       "7    Temuco\n",
       "8  Santiago\n",
       "9  Coquimbo"
      ]
     },
     "metadata": {},
     "output_type": "display_data"
    },
    {
     "name": "stdout",
     "output_type": "stream",
     "text": [
      "Luego de One Hot Encoding:\n"
     ]
    },
    {
     "data": {
      "text/html": [
       "<div>\n",
       "<style scoped>\n",
       "    .dataframe tbody tr th:only-of-type {\n",
       "        vertical-align: middle;\n",
       "    }\n",
       "\n",
       "    .dataframe tbody tr th {\n",
       "        vertical-align: top;\n",
       "    }\n",
       "\n",
       "    .dataframe thead th {\n",
       "        text-align: right;\n",
       "    }\n",
       "</style>\n",
       "<table border=\"1\" class=\"dataframe\">\n",
       "  <thead>\n",
       "    <tr style=\"text-align: right;\">\n",
       "      <th></th>\n",
       "      <th>Ciudad_Coquimbo</th>\n",
       "      <th>Ciudad_Santiago</th>\n",
       "      <th>Ciudad_Temuco</th>\n",
       "    </tr>\n",
       "  </thead>\n",
       "  <tbody>\n",
       "    <tr>\n",
       "      <th>0</th>\n",
       "      <td>0.0</td>\n",
       "      <td>0.0</td>\n",
       "      <td>1.0</td>\n",
       "    </tr>\n",
       "    <tr>\n",
       "      <th>1</th>\n",
       "      <td>1.0</td>\n",
       "      <td>0.0</td>\n",
       "      <td>0.0</td>\n",
       "    </tr>\n",
       "    <tr>\n",
       "      <th>2</th>\n",
       "      <td>0.0</td>\n",
       "      <td>1.0</td>\n",
       "      <td>0.0</td>\n",
       "    </tr>\n",
       "    <tr>\n",
       "      <th>3</th>\n",
       "      <td>0.0</td>\n",
       "      <td>1.0</td>\n",
       "      <td>0.0</td>\n",
       "    </tr>\n",
       "    <tr>\n",
       "      <th>4</th>\n",
       "      <td>0.0</td>\n",
       "      <td>1.0</td>\n",
       "      <td>0.0</td>\n",
       "    </tr>\n",
       "    <tr>\n",
       "      <th>5</th>\n",
       "      <td>0.0</td>\n",
       "      <td>0.0</td>\n",
       "      <td>1.0</td>\n",
       "    </tr>\n",
       "    <tr>\n",
       "      <th>6</th>\n",
       "      <td>1.0</td>\n",
       "      <td>0.0</td>\n",
       "      <td>0.0</td>\n",
       "    </tr>\n",
       "    <tr>\n",
       "      <th>7</th>\n",
       "      <td>0.0</td>\n",
       "      <td>0.0</td>\n",
       "      <td>1.0</td>\n",
       "    </tr>\n",
       "    <tr>\n",
       "      <th>8</th>\n",
       "      <td>0.0</td>\n",
       "      <td>1.0</td>\n",
       "      <td>0.0</td>\n",
       "    </tr>\n",
       "    <tr>\n",
       "      <th>9</th>\n",
       "      <td>1.0</td>\n",
       "      <td>0.0</td>\n",
       "      <td>0.0</td>\n",
       "    </tr>\n",
       "  </tbody>\n",
       "</table>\n",
       "</div>"
      ],
      "text/plain": [
       "   Ciudad_Coquimbo  Ciudad_Santiago  Ciudad_Temuco\n",
       "0              0.0              0.0            1.0\n",
       "1              1.0              0.0            0.0\n",
       "2              0.0              1.0            0.0\n",
       "3              0.0              1.0            0.0\n",
       "4              0.0              1.0            0.0\n",
       "5              0.0              0.0            1.0\n",
       "6              1.0              0.0            0.0\n",
       "7              0.0              0.0            1.0\n",
       "8              0.0              1.0            0.0\n",
       "9              1.0              0.0            0.0"
      ]
     },
     "execution_count": 8,
     "metadata": {},
     "output_type": "execute_result"
    }
   ],
   "source": [
    "ciudades = pd.DataFrame(np.random.choice(['Santiago', 'Coquimbo', 'Temuco'], size=10), columns=['Ciudad'])\n",
    "print(\"Data original:\")\n",
    "display(ciudades)\n",
    "\n",
    "from sklearn.preprocessing import OneHotEncoder\n",
    "\n",
    "print(\"Luego de One Hot Encoding:\")\n",
    "ohe = OneHotEncoder(sparse=False)\n",
    "ohe.fit(ciudades)\n",
    "ciudades_one_hot = ohe.transform(ciudades)\n",
    "\n",
    "pd.DataFrame(ciudades_one_hot, columns=ohe.get_feature_names_out())"
   ]
  },
  {
   "cell_type": "markdown",
   "metadata": {},
   "source": [
    "## Métricas de desempeño"
   ]
  },
  {
   "cell_type": "markdown",
   "metadata": {},
   "source": [
    "Como vimos anteriormente, el método `score` nos entrega el $R^2$ si estamos realizando un modelo de regresión, y el _accuracy_ (o tasa de clasificación correcta) si nuestro modelo es de clasificación.\n",
    "\n",
    "A continuación, aprenderemos a implementar otras técnicas de evaluación del desempeño de nuestros modelos. "
   ]
  },
  {
   "cell_type": "code",
   "execution_count": 9,
   "metadata": {},
   "outputs": [
    {
     "name": "stdout",
     "output_type": "stream",
     "text": [
      "Predictores:\n"
     ]
    },
    {
     "data": {
      "text/plain": [
       "array([[-1.85572313,  1.43221634],\n",
       "       [-1.94896628,  1.12828913],\n",
       "       [-0.75934867, -0.29265799],\n",
       "       [ 1.3152719 ,  0.29490409],\n",
       "       [ 1.93019668,  1.84216989]])"
      ]
     },
     "metadata": {},
     "output_type": "display_data"
    },
    {
     "name": "stdout",
     "output_type": "stream",
     "text": [
      "Variable respuesta:\n"
     ]
    },
    {
     "data": {
      "text/plain": [
       "array([0, 0, 0, 1, 1])"
      ]
     },
     "metadata": {},
     "output_type": "display_data"
    }
   ],
   "source": [
    "#Creemos datos de prueba\n",
    "from sklearn.datasets import make_classification\n",
    "\n",
    "X, y = make_classification(\n",
    "    n_samples            = 1000,\n",
    "    n_features           = 2,\n",
    "    n_informative        = 2,\n",
    "    n_redundant          = 0,\n",
    "    class_sep            = 1.5,\n",
    "    n_clusters_per_class = 1,\n",
    "    random_state         = 13\n",
    ")\n",
    "\n",
    "X_train, X_test, y_train, y_test = train_test_split(X, y, test_size=0.3, random_state=2022)\n",
    "\n",
    "print('Predictores:')\n",
    "display(X[0:5])\n",
    "print('Variable respuesta:')\n",
    "display(y[0:5])"
   ]
  },
  {
   "cell_type": "code",
   "execution_count": 10,
   "metadata": {},
   "outputs": [],
   "source": [
    "# Entrenamos modelo:\n",
    "from sklearn.naive_bayes import GaussianNB\n",
    "modelo_nb = GaussianNB()\n",
    "modelo_nb.fit(X_train, y_train)\n",
    "y_pred = modelo_nb.predict(X_test)"
   ]
  },
  {
   "cell_type": "markdown",
   "metadata": {
    "colab_type": "text",
    "id": "GJYRRQcSMGxp"
   },
   "source": [
    "### Matriz de confusión"
   ]
  },
  {
   "cell_type": "code",
   "execution_count": 11,
   "metadata": {
    "colab": {
     "base_uri": "https://localhost:8080/",
     "height": 282
    },
    "colab_type": "code",
    "id": "slCspk5KM2Pq",
    "outputId": "1d15f599-5997-41c3-cf46-8d3208b62da9"
   },
   "outputs": [
    {
     "name": "stdout",
     "output_type": "stream",
     "text": [
      "Tabla:\n"
     ]
    },
    {
     "data": {
      "text/html": [
       "<div>\n",
       "<style scoped>\n",
       "    .dataframe tbody tr th:only-of-type {\n",
       "        vertical-align: middle;\n",
       "    }\n",
       "\n",
       "    .dataframe tbody tr th {\n",
       "        vertical-align: top;\n",
       "    }\n",
       "\n",
       "    .dataframe thead th {\n",
       "        text-align: right;\n",
       "    }\n",
       "</style>\n",
       "<table border=\"1\" class=\"dataframe\">\n",
       "  <thead>\n",
       "    <tr style=\"text-align: right;\">\n",
       "      <th>Predicción</th>\n",
       "      <th>0</th>\n",
       "      <th>1</th>\n",
       "    </tr>\n",
       "    <tr>\n",
       "      <th>Observado</th>\n",
       "      <th></th>\n",
       "      <th></th>\n",
       "    </tr>\n",
       "  </thead>\n",
       "  <tbody>\n",
       "    <tr>\n",
       "      <th>0</th>\n",
       "      <td>141</td>\n",
       "      <td>13</td>\n",
       "    </tr>\n",
       "    <tr>\n",
       "      <th>1</th>\n",
       "      <td>5</td>\n",
       "      <td>141</td>\n",
       "    </tr>\n",
       "  </tbody>\n",
       "</table>\n",
       "</div>"
      ],
      "text/plain": [
       "Predicción    0    1\n",
       "Observado           \n",
       "0           141   13\n",
       "1             5  141"
      ]
     },
     "metadata": {},
     "output_type": "display_data"
    },
    {
     "name": "stdout",
     "output_type": "stream",
     "text": [
      "Gráfico:\n"
     ]
    },
    {
     "data": {
      "image/png": "[encoded data removed]",
      "text/plain": [
       "<Figure size 432x288 with 2 Axes>"
      ]
     },
     "metadata": {
      "needs_background": "light"
     },
     "output_type": "display_data"
    }
   ],
   "source": [
    "from sklearn.metrics import ConfusionMatrixDisplay\n",
    "\n",
    "resultados = pd.DataFrame({\"Observado\": y_test, \"Predicción\": y_pred})\n",
    "print(\"Tabla:\")\n",
    "tabla = pd.crosstab(resultados[\"Observado\"], resultados[\"Predicción\"])\n",
    "display(tabla)\n",
    "print(\"Gráfico:\")\n",
    "ConfusionMatrixDisplay.from_estimator(modelo_nb, X_test, y_test, display_labels=[\"No\", \"Si\"]);"
   ]
  },
  {
   "cell_type": "markdown",
   "metadata": {},
   "source": [
    "De la tabla anterior, podemos encontrar distintos cálculos usados como métricas de desemepeño bajo la definición que les da Scikit-Learn:\n",
    "\n",
    "* **Accuracy**: Número de registros correctamente clasificados sobre el numero total de datos.\n",
    "* **Precision** (Precisión): Indica el porcentaje de registros correctamente clasificados dentro de una clase. \n",
    "* **Recall** (Detección): Indica el porcentaje de registros de una clase que fueron detectados por el modelo.\n",
    "* **F1**: Media armónica entre precisión y detección, es útil para datos desbalanceados ya que esta media penaliza valores muy bajos.\n"
   ]
  },
  {
   "cell_type": "markdown",
   "metadata": {},
   "source": [
    "Todo lo respectivo a métricas se encuentra en el módulo `metrics` en `sklearn`:"
   ]
  },
  {
   "cell_type": "code",
   "execution_count": 12,
   "metadata": {},
   "outputs": [
    {
     "name": "stdout",
     "output_type": "stream",
     "text": [
      "Accuracy : 0.94\n",
      "Precision: 0.9155844155844156\n",
      "Recall   : 0.9657534246575342\n",
      "F1       : 0.94\n"
     ]
    }
   ],
   "source": [
    "from sklearn.metrics import accuracy_score, precision_score, recall_score, f1_score\n",
    "\n",
    "print(\"Accuracy :\", accuracy_score(y_test, y_pred))\n",
    "print(\"Precision:\", precision_score(y_test, y_pred))\n",
    "print(\"Recall   :\", recall_score(y_test, y_pred))\n",
    "print(\"F1       :\", f1_score(y_test, y_pred))"
   ]
  },
  {
   "cell_type": "markdown",
   "metadata": {},
   "source": [
    "Resulta que este módulo también presenta la función `classification_report`, que reporta las medidas de accuracy, precision, recall y f1 para cada categoría en el modelo estimado."
   ]
  },
  {
   "cell_type": "code",
   "execution_count": 13,
   "metadata": {},
   "outputs": [
    {
     "name": "stdout",
     "output_type": "stream",
     "text": [
      "              precision    recall  f1-score   support\n",
      "\n",
      "          No       0.97      0.92      0.94       154\n",
      "          Si       0.92      0.97      0.94       146\n",
      "\n",
      "    accuracy                           0.94       300\n",
      "   macro avg       0.94      0.94      0.94       300\n",
      "weighted avg       0.94      0.94      0.94       300\n",
      "\n"
     ]
    }
   ],
   "source": [
    "from sklearn.metrics import classification_report\n",
    "print(classification_report(y_test, y_pred, target_names=[\"No\", \"Si\"]))"
   ]
  },
  {
   "cell_type": "markdown",
   "metadata": {},
   "source": [
    "### Receiving Operating Characteristics (Curva ROC)"
   ]
  },
  {
   "cell_type": "code",
   "execution_count": 14,
   "metadata": {},
   "outputs": [
    {
     "data": {
      "image/png": "[encoded data removed]",
      "text/plain": [
       "<Figure size 432x288 with 1 Axes>"
      ]
     },
     "metadata": {
      "needs_background": "light"
     },
     "output_type": "display_data"
    }
   ],
   "source": [
    "from sklearn.metrics import RocCurveDisplay\n",
    "\n",
    "RocCurveDisplay.from_estimator(modelo_nb, X_test, y_test)\n",
    "plt.plot([0, 1], ls=\"--\");"
   ]
  },
  {
   "cell_type": "markdown",
   "metadata": {},
   "source": [
    "Verán que es muy común (en especial en banca y consultoras) revisar el **área bajo la curva** del modelo, que es un número que rápidamente nos indicará la calidad de este. También podemos calcularlo de la siguiente manera:"
   ]
  },
  {
   "cell_type": "code",
   "execution_count": 15,
   "metadata": {},
   "outputs": [
    {
     "name": "stdout",
     "output_type": "stream",
     "text": [
      "Área bajo la curva: 0.940668920120975\n"
     ]
    }
   ],
   "source": [
    "from sklearn.metrics import roc_auc_score\n",
    "print(\"Área bajo la curva:\", roc_auc_score(y_test, y_pred))"
   ]
  },
  {
   "cell_type": "markdown",
   "metadata": {
    "id": "qkhbMrxkboix"
   },
   "source": [
    "## Diagnosticando un modelo\n",
    "\n",
    "A continuación veremos algunos para evaluar nuestros modelos de forma robusta."
   ]
  },
  {
   "cell_type": "markdown",
   "metadata": {},
   "source": [
    "Si prestamos atención a nuestros resultados, el sesgo estimado impacta más al modelo que la varianza estimada. Sin embargo, al tener un error medio bajo dado el contexto, podemos despreciar esta diferencia."
   ]
  },
  {
   "cell_type": "markdown",
   "metadata": {},
   "source": [
    "### Cross Validation\n",
    "\n",
    "Recordemos que entrenar y evaluar el modelo con el mismo conjunto de datos es un error metodológico, ya que nos arriesgamos a que el modelo **memorice** en vez de **aprender**. Atacamos este problema eligiendo un set de entrenamiento y uno de prueba.\n",
    "\n",
    "Además, podemos probar distintas divisiones de entrenamiento y prueba para nuestros datos. Esto se denomina **validación cruzada** y consiste en repetir el proceso de entrenamiento una cantidad determinada de veces con distintos subconjuntos de datos. Cada entrenamiento produce una serie de métricas que podemos analizar como una muestra.\n",
    "\n",
    "Podemos estimar el sesgo y varianza de nuestros modelos (sin incluir error intríseco) de nuestros modelos."
   ]
  },
  {
   "cell_type": "code",
   "execution_count": 16,
   "metadata": {
    "colab": {
     "base_uri": "https://localhost:8080/",
     "height": 265
    },
    "id": "UjYulH92OmOi",
    "outputId": "8f147ece-89f0-463c-f7ae-ada850d6e8bb"
   },
   "outputs": [
    {
     "data": {
      "image/png": "[encoded data removed]",
      "text/plain": [
       "<Figure size 432x288 with 1 Axes>"
      ]
     },
     "metadata": {},
     "output_type": "display_data"
    }
   ],
   "source": [
    "plt.style.use('ggplot')\n",
    "np.random.seed(2022)\n",
    "\n",
    "sns.scatterplot(\n",
    "    x   = X_train[:, 0],\n",
    "    y   = X_train[:, 1],\n",
    "    hue = y_train\n",
    ");"
   ]
  },
  {
   "cell_type": "code",
   "execution_count": 17,
   "metadata": {},
   "outputs": [
    {
     "data": {
      "image/png": "[encoded data removed]",
      "text/plain": [
       "<Figure size 432x288 with 1 Axes>"
      ]
     },
     "metadata": {},
     "output_type": "display_data"
    }
   ],
   "source": [
    "from sklearn.svm import SVC\n",
    "from sklearn.inspection import DecisionBoundaryDisplay\n",
    "\n",
    "modelo = SVC(kernel=\"poly\")\n",
    "modelo.fit(X_train, y_train)\n",
    "\n",
    "DecisionBoundaryDisplay.from_estimator(modelo, X_train, response_method=\"predict\")\n",
    "sns.scatterplot(x=X_test[:, 0], y=X_test[:, 1], hue=y_test);"
   ]
  },
  {
   "cell_type": "markdown",
   "metadata": {},
   "source": [
    "Calculamos sus medidas de error:"
   ]
  },
  {
   "cell_type": "code",
   "execution_count": 18,
   "metadata": {},
   "outputs": [
    {
     "name": "stdout",
     "output_type": "stream",
     "text": [
      "              precision    recall  f1-score   support\n",
      "\n",
      "           0      0.984     0.792     0.878       154\n",
      "           1      0.818     0.986     0.894       146\n",
      "\n",
      "    accuracy                          0.887       300\n",
      "   macro avg      0.901     0.889     0.886       300\n",
      "weighted avg      0.903     0.887     0.886       300\n",
      "\n"
     ]
    }
   ],
   "source": [
    "y_pred = modelo.predict(X_test)\n",
    "print(classification_report(y_test, y_pred, digits=3))"
   ]
  },
  {
   "cell_type": "markdown",
   "metadata": {},
   "source": [
    "Si bien el modelo posee buenas métricas, podemos evaluar incialmente nuestro modelo con la técnica de validación cruzada K-Folds antes de obtener métricas de testeo.\n",
    "\n",
    "Por ejemplo, pre-evaluemos nuestro modelo con validación cruzada de 10-Folds:\n",
    "* Con la clase `KFold` establecemos configuraciones de la validación cruzada, como semilla y número de grupos.\n",
    "* Con la función `cross_val_score` ejecutamos la validación cruzada, indicandole modelo, datos a usar, configuraciones de la validación cruzada y métrica a calcular.  \n",
    "\n",
    "\n"
   ]
  },
  {
   "cell_type": "code",
   "execution_count": 19,
   "metadata": {},
   "outputs": [
    {
     "name": "stdout",
     "output_type": "stream",
     "text": [
      "- Accuracy en cada grupo:\n",
      "[0.95714286 0.9        0.9        0.91428571 0.9        0.92857143\n",
      " 0.88571429 0.84285714 0.88571429 0.94285714]\n",
      "- Accuracy en validación cruzada: 0.9057142857142859\n"
     ]
    }
   ],
   "source": [
    "from sklearn.model_selection import KFold, cross_val_score\n",
    "\n",
    "configuraciones = KFold(n_splits=10, shuffle=True, random_state=2022)\n",
    "resultados = cross_val_score(\n",
    "    estimator = modelo,\n",
    "    X         = X_train,\n",
    "    y         = y_train,\n",
    "    cv        = configuraciones,\n",
    "    scoring   = \"accuracy\"\n",
    ")\n",
    "print(\"- Accuracy en cada grupo:\")\n",
    "print(resultados)\n",
    "print(\"- Accuracy en validación cruzada:\", resultados.mean())"
   ]
  },
  {
   "cell_type": "markdown",
   "metadata": {},
   "source": [
    "El `accuracy` es distinto de acuerdo al grupo que se utiliza para calcularlo. Esta información es muy útil para obtener un accuracy más robusto respecto al que se usa considerando la totalidad de los datos."
   ]
  },
  {
   "cell_type": "markdown",
   "metadata": {},
   "source": [
    "### Optimización de hiperparámetros"
   ]
  },
  {
   "cell_type": "markdown",
   "metadata": {},
   "source": [
    "\n",
    "A pesar de que nuestras métricas de validación cruzada nos dan indicio de que actualmente tenemos un buen modelo, aún no es el mejor kernel que asignar, por lo que para estos casos utilizaremos búsqueda de hiperparámetros. En términos simples, estos son valores que poseen los modelos que podemos cambiar, para obtener distintos resultados bajo los mismos modelos y la misma data. En las clases siguientes veremos algunos hiperparámetros para cada modelo.\n",
    "\n",
    "La estrategia mas común para encontrar los mejores valores de un hiperparámetro es entrenar una serie de modelos, para distintos valores de hiperparámetros y elegir el que tiene mejores métricas. \n",
    "\n",
    "El problema surge cuando repetimos este proceso para el mismo set de entrenamiento y prueba. Existe el riesgo que terminemos eligiendo el mejor conjunto de hiperparámetros para una división específica de los datos. La solución es **validación cruzada**.\n",
    "\n",
    "Esta nos permitirá probar distintos hiperparámetros (como el kernel) y entregar como resultado el mejor modelo dada la métrica seleccionada en validación cruzada. Para indicar los hiperparámetros a probar, debemos hacerlo mediante un diccionario y la llave de cada elemento debe coincidir con el de la función que inicializa el modelo.\n",
    "\n",
    "Scikit-Learn nos provee distintas clases dentro del módulo `model_selection` para este fin como `GridSearchCV`, `RandomizedSearchCV` y `HalvingGridSearchCV`.\n",
    "\n",
    "Otra librería bastante popular para estos fines y que usa un método que entrega mejores resultados en menos tiempo es `optuna`, pero inicialmente conozcamos la implementación dentro de `scikit-learn`."
   ]
  },
  {
   "cell_type": "code",
   "execution_count": 20,
   "metadata": {},
   "outputs": [
    {
     "name": "stdout",
     "output_type": "stream",
     "text": [
      "Fitting 10 folds for each of 3 candidates, totalling 30 fits\n"
     ]
    },
    {
     "data": {
      "text/html": [
       "<style>#sk-container-id-1 {color: black;background-color: white;}#sk-container-id-1 pre{padding: 0;}#sk-container-id-1 div.sk-toggleable {background-color: white;}#sk-container-id-1 label.sk-toggleable__label {cursor: pointer;display: block;width: 100%;margin-bottom: 0;padding: 0.3em;box-sizing: border-box;text-align: center;}#sk-container-id-1 label.sk-toggleable__label-arrow:before {content: \"▸\";float: left;margin-right: 0.25em;color: #696969;}#sk-container-id-1 label.sk-toggleable__label-arrow:hover:before {color: black;}#sk-container-id-1 div.sk-estimator:hover label.sk-toggleable__label-arrow:before {color: black;}#sk-container-id-1 div.sk-toggleable__content {max-height: 0;max-width: 0;overflow: hidden;text-align: left;background-color: #f0f8ff;}#sk-container-id-1 div.sk-toggleable__content pre {margin: 0.2em;color: black;border-radius: 0.25em;background-color: #f0f8ff;}#sk-container-id-1 input.sk-toggleable__control:checked~div.sk-toggleable__content {max-height: 200px;max-width: 100%;overflow: auto;}#sk-container-id-1 input.sk-toggleable__control:checked~label.sk-toggleable__label-arrow:before {content: \"▾\";}#sk-container-id-1 div.sk-estimator input.sk-toggleable__control:checked~label.sk-toggleable__label {background-color: #d4ebff;}#sk-container-id-1 div.sk-label input.sk-toggleable__control:checked~label.sk-toggleable__label {background-color: #d4ebff;}#sk-container-id-1 input.sk-hidden--visually {border: 0;clip: rect(1px 1px 1px 1px);clip: rect(1px, 1px, 1px, 1px);height: 1px;margin: -1px;overflow: hidden;padding: 0;position: absolute;width: 1px;}#sk-container-id-1 div.sk-estimator {font-family: monospace;background-color: #f0f8ff;border: 1px dotted black;border-radius: 0.25em;box-sizing: border-box;margin-bottom: 0.5em;}#sk-container-id-1 div.sk-estimator:hover {background-color: #d4ebff;}#sk-container-id-1 div.sk-parallel-item::after {content: \"\";width: 100%;border-bottom: 1px solid gray;flex-grow: 1;}#sk-container-id-1 div.sk-label:hover label.sk-toggleable__label {background-color: #d4ebff;}#sk-container-id-1 div.sk-serial::before {content: \"\";position: absolute;border-left: 1px solid gray;box-sizing: border-box;top: 0;bottom: 0;left: 50%;z-index: 0;}#sk-container-id-1 div.sk-serial {display: flex;flex-direction: column;align-items: center;background-color: white;padding-right: 0.2em;padding-left: 0.2em;position: relative;}#sk-container-id-1 div.sk-item {position: relative;z-index: 1;}#sk-container-id-1 div.sk-parallel {display: flex;align-items: stretch;justify-content: center;background-color: white;position: relative;}#sk-container-id-1 div.sk-item::before, #sk-container-id-1 div.sk-parallel-item::before {content: \"\";position: absolute;border-left: 1px solid gray;box-sizing: border-box;top: 0;bottom: 0;left: 50%;z-index: -1;}#sk-container-id-1 div.sk-parallel-item {display: flex;flex-direction: column;z-index: 1;position: relative;background-color: white;}#sk-container-id-1 div.sk-parallel-item:first-child::after {align-self: flex-end;width: 50%;}#sk-container-id-1 div.sk-parallel-item:last-child::after {align-self: flex-start;width: 50%;}#sk-container-id-1 div.sk-parallel-item:only-child::after {width: 0;}#sk-container-id-1 div.sk-dashed-wrapped {border: 1px dashed gray;margin: 0 0.4em 0.5em 0.4em;box-sizing: border-box;padding-bottom: 0.4em;background-color: white;}#sk-container-id-1 div.sk-label label {font-family: monospace;font-weight: bold;display: inline-block;line-height: 1.2em;}#sk-container-id-1 div.sk-label-container {text-align: center;}#sk-container-id-1 div.sk-container {/* jupyter's `normalize.less` sets `[hidden] { display: none; }` but bootstrap.min.css set `[hidden] { display: none !important; }` so we also need the `!important` here to be able to override the default hidden behavior on the sphinx rendered scikit-learn.org. See: https://github.com/scikit-learn/scikit-learn/issues/21755 */display: inline-block !important;position: relative;}#sk-container-id-1 div.sk-text-repr-fallback {display: none;}</style><div id=\"sk-container-id-1\" class=\"sk-top-container\"><div class=\"sk-text-repr-fallback\"><pre>GridSearchCV(cv=KFold(n_splits=10, random_state=2022, shuffle=True),\n",
       "             estimator=SVC(random_state=2022), n_jobs=-1,\n",
       "             param_grid={&#x27;kernel&#x27;: [&#x27;rbf&#x27;, &#x27;linear&#x27;, &#x27;poly&#x27;]},\n",
       "             scoring=&#x27;accuracy&#x27;, verbose=1)</pre><b>In a Jupyter environment, please rerun this cell to show the HTML representation or trust the notebook. <br />On GitHub, the HTML representation is unable to render, please try loading this page with nbviewer.org.</b></div><div class=\"sk-container\" hidden><div class=\"sk-item sk-dashed-wrapped\"><div class=\"sk-label-container\"><div class=\"sk-label sk-toggleable\"><input class=\"sk-toggleable__control sk-hidden--visually\" id=\"sk-estimator-id-1\" type=\"checkbox\" ><label for=\"sk-estimator-id-1\" class=\"sk-toggleable__label sk-toggleable__label-arrow\">GridSearchCV</label><div class=\"sk-toggleable__content\"><pre>GridSearchCV(cv=KFold(n_splits=10, random_state=2022, shuffle=True),\n",
       "             estimator=SVC(random_state=2022), n_jobs=-1,\n",
       "             param_grid={&#x27;kernel&#x27;: [&#x27;rbf&#x27;, &#x27;linear&#x27;, &#x27;poly&#x27;]},\n",
       "             scoring=&#x27;accuracy&#x27;, verbose=1)</pre></div></div></div><div class=\"sk-parallel\"><div class=\"sk-parallel-item\"><div class=\"sk-item\"><div class=\"sk-label-container\"><div class=\"sk-label sk-toggleable\"><input class=\"sk-toggleable__control sk-hidden--visually\" id=\"sk-estimator-id-2\" type=\"checkbox\" ><label for=\"sk-estimator-id-2\" class=\"sk-toggleable__label sk-toggleable__label-arrow\">estimator: SVC</label><div class=\"sk-toggleable__content\"><pre>SVC(random_state=2022)</pre></div></div></div><div class=\"sk-serial\"><div class=\"sk-item\"><div class=\"sk-estimator sk-toggleable\"><input class=\"sk-toggleable__control sk-hidden--visually\" id=\"sk-estimator-id-3\" type=\"checkbox\" ><label for=\"sk-estimator-id-3\" class=\"sk-toggleable__label sk-toggleable__label-arrow\">SVC</label><div class=\"sk-toggleable__content\"><pre>SVC(random_state=2022)</pre></div></div></div></div></div></div></div></div></div></div>"
      ],
      "text/plain": [
       "GridSearchCV(cv=KFold(n_splits=10, random_state=2022, shuffle=True),\n",
       "             estimator=SVC(random_state=2022), n_jobs=-1,\n",
       "             param_grid={'kernel': ['rbf', 'linear', 'poly']},\n",
       "             scoring='accuracy', verbose=1)"
      ]
     },
     "execution_count": 20,
     "metadata": {},
     "output_type": "execute_result"
    }
   ],
   "source": [
    "from sklearn.model_selection import GridSearchCV, KFold\n",
    "\n",
    "hiperparametros = {\"kernel\": [\"rbf\", \"linear\", \"poly\"]}\n",
    "configuraciones = KFold(n_splits=10, shuffle=True, random_state=2022)\n",
    "modelo          = SVC(random_state=2022)\n",
    "\n",
    "modelos = GridSearchCV(\n",
    "    estimator  = modelo,           # modelo a optimizar\n",
    "    param_grid = hiperparametros,  # Parámetros donde buscar\n",
    "    cv         = configuraciones,  # configuraciones validación cruzada\n",
    "    scoring    = \"accuracy\",       # Buscamos optimizar el accuracy\n",
    "    n_jobs     = -1,               # Para usar todos los nucleos\n",
    "    verbose    = 1                 # Para saber cuantos modelos estamos ajustando.\n",
    ")\n",
    "modelos.fit(X_train, y_train)"
   ]
  },
  {
   "cell_type": "markdown",
   "metadata": {},
   "source": [
    "Veamos los resultados:"
   ]
  },
  {
   "cell_type": "code",
   "execution_count": 21,
   "metadata": {},
   "outputs": [
    {
     "data": {
      "text/html": [
       "<style type=\"text/css\">\n",
       "#T_8a625_row0_col1 {\n",
       "  width: 10em;\n",
       "  background: linear-gradient(90deg, #d65f5f 99.2%, transparent 99.2%);\n",
       "}\n",
       "#T_8a625_row1_col1 {\n",
       "  width: 10em;\n",
       "  background: linear-gradient(90deg, #d65f5f 100.0%, transparent 100.0%);\n",
       "}\n",
       "#T_8a625_row2_col1 {\n",
       "  width: 10em;\n",
       "  background: linear-gradient(90deg, #d65f5f 95.5%, transparent 95.5%);\n",
       "}\n",
       "</style>\n",
       "<table id=\"T_8a625\">\n",
       "  <thead>\n",
       "    <tr>\n",
       "      <th class=\"blank level0\" >&nbsp;</th>\n",
       "      <th id=\"T_8a625_level0_col0\" class=\"col_heading level0 col0\" >params</th>\n",
       "      <th id=\"T_8a625_level0_col1\" class=\"col_heading level0 col1\" >mean_test_score</th>\n",
       "      <th id=\"T_8a625_level0_col2\" class=\"col_heading level0 col2\" >rank_test_score</th>\n",
       "    </tr>\n",
       "  </thead>\n",
       "  <tbody>\n",
       "    <tr>\n",
       "      <th id=\"T_8a625_level0_row0\" class=\"row_heading level0 row0\" >0</th>\n",
       "      <td id=\"T_8a625_row0_col0\" class=\"data row0 col0\" >{'kernel': 'rbf'}</td>\n",
       "      <td id=\"T_8a625_row0_col1\" class=\"data row0 col1\" >0.941429</td>\n",
       "      <td id=\"T_8a625_row0_col2\" class=\"data row0 col2\" >2</td>\n",
       "    </tr>\n",
       "    <tr>\n",
       "      <th id=\"T_8a625_level0_row1\" class=\"row_heading level0 row1\" >1</th>\n",
       "      <td id=\"T_8a625_row1_col0\" class=\"data row1 col0\" >{'kernel': 'linear'}</td>\n",
       "      <td id=\"T_8a625_row1_col1\" class=\"data row1 col1\" >0.948571</td>\n",
       "      <td id=\"T_8a625_row1_col2\" class=\"data row1 col2\" >1</td>\n",
       "    </tr>\n",
       "    <tr>\n",
       "      <th id=\"T_8a625_level0_row2\" class=\"row_heading level0 row2\" >2</th>\n",
       "      <td id=\"T_8a625_row2_col0\" class=\"data row2 col0\" >{'kernel': 'poly'}</td>\n",
       "      <td id=\"T_8a625_row2_col1\" class=\"data row2 col1\" >0.905714</td>\n",
       "      <td id=\"T_8a625_row2_col2\" class=\"data row2 col2\" >3</td>\n",
       "    </tr>\n",
       "  </tbody>\n",
       "</table>\n"
      ],
      "text/plain": [
       "<pandas.io.formats.style.Styler at 0x1a4dc3beac0>"
      ]
     },
     "execution_count": 21,
     "metadata": {},
     "output_type": "execute_result"
    }
   ],
   "source": [
    "tabla_resultados = pd.DataFrame(modelos.cv_results_)[[\"params\", \"mean_test_score\", \"rank_test_score\"]]\n",
    "tabla_resultados.style.bar(\"mean_test_score\")"
   ]
  },
  {
   "cell_type": "markdown",
   "metadata": {},
   "source": [
    "El modelo con mejores resultados es el que tiene un accuracy medio superior al resto, y en este caso es el que usa kernel lineal. `GridSearchCV` automáticamente almacena el modelo con mejor resultado dentro de la propiedad `best_estimator_` y ahora está listo para entrenar con datos de entrenamiento y ser evaluado con el set de testeo."
   ]
  },
  {
   "cell_type": "code",
   "execution_count": 22,
   "metadata": {},
   "outputs": [
    {
     "data": {
      "image/png": "[encoded data removed]",
      "text/plain": [
       "<Figure size 432x288 with 1 Axes>"
      ]
     },
     "metadata": {},
     "output_type": "display_data"
    }
   ],
   "source": [
    "mejor_modelo = modelos.best_estimator_.fit(X_train, y_train)\n",
    "\n",
    "DecisionBoundaryDisplay.from_estimator(mejor_modelo, X_train, response_method=\"predict\")\n",
    "sns.scatterplot(x=X_test[:, 0], y=X_test[:, 1], hue=y_test);"
   ]
  },
  {
   "cell_type": "code",
   "execution_count": 23,
   "metadata": {},
   "outputs": [
    {
     "name": "stdout",
     "output_type": "stream",
     "text": [
      "              precision    recall  f1-score   support\n",
      "\n",
      "           0       0.98      0.79      0.88       154\n",
      "           1       0.82      0.99      0.89       146\n",
      "\n",
      "    accuracy                           0.89       300\n",
      "   macro avg       0.90      0.89      0.89       300\n",
      "weighted avg       0.90      0.89      0.89       300\n",
      "\n"
     ]
    }
   ],
   "source": [
    "y_pred_train = mejor_modelo.predict(X_train)\n",
    "y_pred_test  = mejor_modelo.predict(X_test)\n",
    "\n",
    "print(classification_report(y_test, y_pred))"
   ]
  },
  {
   "cell_type": "markdown",
   "metadata": {},
   "source": [
    "### Underfitting y Overfitting\n",
    "\n",
    "Un modelo es exitoso cuando es capaz de igualar la complejidad del problema que está representando. Cuando proponemos un modelo muy sencillo para un problema muy complicado, no importa con cuantos datos alimentemos el modelo, nunca logrará ajustarse. Este escenario es conocido como **underfitting** y ocurre cuando nuestro modelo no es tan complejo como nuestro problema y tiene un sesgo alto. El caso contrario, conocido como **overfitting** ocurre cuando nuestro modelo es mas complejo que nuestro problema y tiene varianza alta. Esto permite que el modelo aprenda incluso el ruido presente en los datos y por lo tanto no pueda generalizar bien. \n",
    "\n",
    "Veamos como estimar el sesgo y varianza de nuestros modelos:"
   ]
  },
  {
   "cell_type": "code",
   "execution_count": 24,
   "metadata": {},
   "outputs": [
    {
     "name": "stdout",
     "output_type": "stream",
     "text": [
      "Error medio   : 0.06361666666666667\n",
      "Sesgo medio   : 0.06\n",
      "Varianza media: 0.008483333333333332\n"
     ]
    }
   ],
   "source": [
    "# !pip install mlxtend\n",
    "from mlxtend.evaluate import bias_variance_decomp\n",
    "error_medio, sesgo_medio, varianza_media = bias_variance_decomp(\n",
    "    estimator   = modelo_nb,\n",
    "    X_train     = X_train,\n",
    "    X_test      = X_test,\n",
    "    y_train     = y_train,\n",
    "    y_test      = y_test,\n",
    "    random_seed = 2022\n",
    ")\n",
    "print(\"Error medio   :\", error_medio)\n",
    "print(\"Sesgo medio   :\", sesgo_medio)\n",
    "print(\"Varianza media:\", varianza_media)"
   ]
  },
  {
   "cell_type": "markdown",
   "metadata": {
    "id": "SH46aGSN5GKO"
   },
   "source": [
    "Otra forma de identificar estos problemas es comprarar el comportamiento del modelo en el set de entrenamiento vs prueba, recordando que:\n",
    "\n",
    "- **Underfitting** se caracteriza por que ambas métricas no alcanzan un valor deseable\n",
    "- **Overfitting** se caracteriza por presentar un gap entre el score de entrenamiento y prueba. El score de entrenamiento es bueno mientras que el de prueba se estanca o empeora\n",
    "- **Ideal** Ambas métricas convergen a un valor deseable"
   ]
  },
  {
   "cell_type": "code",
   "execution_count": 25,
   "metadata": {},
   "outputs": [
    {
     "name": "stdout",
     "output_type": "stream",
     "text": [
      "Train accuracy: 0.9485714285714286\n",
      "Test accuracy: 0.9466666666666667\n"
     ]
    }
   ],
   "source": [
    "print(\"Train accuracy:\", accuracy_score(y_train, y_pred_train))\n",
    "print(\"Test accuracy:\", accuracy_score(y_test, y_pred_test))"
   ]
  },
  {
   "cell_type": "markdown",
   "metadata": {},
   "source": [
    "## Ejercicios"
   ]
  },
  {
   "cell_type": "markdown",
   "metadata": {},
   "source": [
    "La base de datos Credit contiene datos de clientes de un banco e información sobre su situación financiera. Las variables son las siguientes:\n",
    "    \n",
    "    \n",
    "- Income : Ingreso anual disponible en miles de dólares.\n",
    "- Limit : Límite del crédito.\n",
    "- Rating : Ranking del crédito.\n",
    "- Cards : Cantidad de tarjetas de credito.\n",
    "- Age : Edad del usuario.\n",
    "- Education : Años de educación del usuario.\n",
    "- Gender : ¿Hombre o mujer?\n",
    "- Student : ¿Es estudiante?\n",
    "- Married : ¿Está casado?\n",
    "- DebtLevel (Variable Respuesta) : El nivel de deuda es aceptable (0) o alto (1)."
   ]
  },
  {
   "cell_type": "markdown",
   "metadata": {},
   "source": [
    "**a)**  Cargue los datos y obtenga un resumen descriptivo de estos con el método `describe`."
   ]
  },
  {
   "cell_type": "code",
   "execution_count": 2,
   "metadata": {},
   "outputs": [
    {
     "data": {
      "text/html": [
       "<div>\n",
       "<style scoped>\n",
       "    .dataframe tbody tr th:only-of-type {\n",
       "        vertical-align: middle;\n",
       "    }\n",
       "\n",
       "    .dataframe tbody tr th {\n",
       "        vertical-align: top;\n",
       "    }\n",
       "\n",
       "    .dataframe thead th {\n",
       "        text-align: right;\n",
       "    }\n",
       "</style>\n",
       "<table border=\"1\" class=\"dataframe\">\n",
       "  <thead>\n",
       "    <tr style=\"text-align: right;\">\n",
       "      <th></th>\n",
       "      <th>Income</th>\n",
       "      <th>Limit</th>\n",
       "      <th>Rating</th>\n",
       "      <th>Cards</th>\n",
       "      <th>Age</th>\n",
       "      <th>Education</th>\n",
       "      <th>Gender</th>\n",
       "      <th>Student</th>\n",
       "      <th>Married</th>\n",
       "      <th>DebtLevel</th>\n",
       "    </tr>\n",
       "  </thead>\n",
       "  <tbody>\n",
       "    <tr>\n",
       "      <th>0</th>\n",
       "      <td>14.891</td>\n",
       "      <td>3606</td>\n",
       "      <td>283</td>\n",
       "      <td>2</td>\n",
       "      <td>34</td>\n",
       "      <td>11</td>\n",
       "      <td>Male</td>\n",
       "      <td>No</td>\n",
       "      <td>Yes</td>\n",
       "      <td>0</td>\n",
       "    </tr>\n",
       "    <tr>\n",
       "      <th>1</th>\n",
       "      <td>106.025</td>\n",
       "      <td>6645</td>\n",
       "      <td>483</td>\n",
       "      <td>3</td>\n",
       "      <td>82</td>\n",
       "      <td>15</td>\n",
       "      <td>Female</td>\n",
       "      <td>Yes</td>\n",
       "      <td>Yes</td>\n",
       "      <td>1</td>\n",
       "    </tr>\n",
       "    <tr>\n",
       "      <th>2</th>\n",
       "      <td>104.593</td>\n",
       "      <td>7075</td>\n",
       "      <td>514</td>\n",
       "      <td>4</td>\n",
       "      <td>71</td>\n",
       "      <td>11</td>\n",
       "      <td>Male</td>\n",
       "      <td>No</td>\n",
       "      <td>No</td>\n",
       "      <td>1</td>\n",
       "    </tr>\n",
       "    <tr>\n",
       "      <th>3</th>\n",
       "      <td>148.924</td>\n",
       "      <td>9504</td>\n",
       "      <td>681</td>\n",
       "      <td>3</td>\n",
       "      <td>36</td>\n",
       "      <td>11</td>\n",
       "      <td>Female</td>\n",
       "      <td>No</td>\n",
       "      <td>No</td>\n",
       "      <td>1</td>\n",
       "    </tr>\n",
       "    <tr>\n",
       "      <th>4</th>\n",
       "      <td>55.882</td>\n",
       "      <td>4897</td>\n",
       "      <td>357</td>\n",
       "      <td>2</td>\n",
       "      <td>68</td>\n",
       "      <td>16</td>\n",
       "      <td>Male</td>\n",
       "      <td>No</td>\n",
       "      <td>Yes</td>\n",
       "      <td>0</td>\n",
       "    </tr>\n",
       "  </tbody>\n",
       "</table>\n",
       "</div>"
      ],
      "text/plain": [
       "    Income  Limit  Rating  Cards  Age  Education  Gender Student Married  \\\n",
       "0   14.891   3606     283      2   34         11    Male      No     Yes   \n",
       "1  106.025   6645     483      3   82         15  Female     Yes     Yes   \n",
       "2  104.593   7075     514      4   71         11    Male      No      No   \n",
       "3  148.924   9504     681      3   36         11  Female      No      No   \n",
       "4   55.882   4897     357      2   68         16    Male      No     Yes   \n",
       "\n",
       "   DebtLevel  \n",
       "0          0  \n",
       "1          1  \n",
       "2          1  \n",
       "3          1  \n",
       "4          0  "
      ]
     },
     "execution_count": 2,
     "metadata": {},
     "output_type": "execute_result"
    }
   ],
   "source": [
    "import pandas as pd\n",
    "\n",
    "df = pd.read_csv(\"https://raw.githubusercontent.com/DiegoHoliwis/Diplomado_DS/main/Bases_Python/credito.csv\")\n",
    "df.head()"
   ]
  },
  {
   "cell_type": "code",
   "execution_count": null,
   "metadata": {},
   "outputs": [],
   "source": [
    "df.describe()"
   ]
  },
  {
   "cell_type": "code",
   "execution_count": null,
   "metadata": {},
   "outputs": [],
   "source": [
    "df.describe(include=[\"object\"])"
   ]
  },
  {
   "cell_type": "markdown",
   "metadata": {},
   "source": [
    "**b)** Determine qué variables de la  base de datos corresponden a categorías."
   ]
  },
  {
   "cell_type": "code",
   "execution_count": 27,
   "metadata": {},
   "outputs": [
    {
     "name": "stdout",
     "output_type": "stream",
     "text": [
      "<class 'pandas.core.frame.DataFrame'>\n",
      "RangeIndex: 400 entries, 0 to 399\n",
      "Data columns (total 10 columns):\n",
      " #   Column     Non-Null Count  Dtype  \n",
      "---  ------     --------------  -----  \n",
      " 0   Income     400 non-null    float64\n",
      " 1   Limit      400 non-null    int64  \n",
      " 2   Rating     400 non-null    int64  \n",
      " 3   Cards      400 non-null    int64  \n",
      " 4   Age        400 non-null    int64  \n",
      " 5   Education  400 non-null    int64  \n",
      " 6   Gender     400 non-null    object \n",
      " 7   Student    400 non-null    object \n",
      " 8   Married    400 non-null    object \n",
      " 9   DebtLevel  400 non-null    int64  \n",
      "dtypes: float64(1), int64(6), object(3)\n",
      "memory usage: 31.4+ KB\n"
     ]
    }
   ],
   "source": [
    "df.info()"
   ]
  },
  {
   "cell_type": "markdown",
   "metadata": {},
   "source": [
    "Las variables que son categorías son:\n",
    "- Gender\n",
    "- Student\n",
    "- Married\n",
    "\n",
    "Por lo tanto deben recodificarse a números con una serie de variables dummies."
   ]
  },
  {
   "cell_type": "markdown",
   "metadata": {},
   "source": [
    "**Ahora preprocese los datos siguiendo los siguientes pasos:**"
   ]
  },
  {
   "cell_type": "markdown",
   "metadata": {},
   "source": [
    "**b.1)** Defina los objetos df_num y df_cat donde estén solo los predictores numéricos y categóricos respectivamente. Guarde la variable `DebtLevel` en un objeto aparte."
   ]
  },
  {
   "cell_type": "code",
   "execution_count": 28,
   "metadata": {},
   "outputs": [],
   "source": [
    "df_num = df[df.columns[df.dtypes != \"object\"]].iloc[:, :-1]\n",
    "df_cat = df[df.columns[df.dtypes == \"object\"]]\n",
    "y = df[\"DebtLevel\"]\n"
   ]
  },
  {
   "cell_type": "markdown",
   "metadata": {},
   "source": [
    "**b.2)** Recodifique todas las variables categóricas. Para recodificar las variables categóricas, puede utilizar la clase `OneHotEncoder` de Scikit-Learn indicando los argumentos `sparse=False` y `drop=\"first\"`, ajuste esta con la base de datos de variables categóricas. Luego cree el objeto `df_one_hot` que es una nueva base de datos con las variables categóricas pero dummificadas."
   ]
  },
  {
   "cell_type": "code",
   "execution_count": 29,
   "metadata": {},
   "outputs": [
    {
     "data": {
      "text/html": [
       "<div>\n",
       "<style scoped>\n",
       "    .dataframe tbody tr th:only-of-type {\n",
       "        vertical-align: middle;\n",
       "    }\n",
       "\n",
       "    .dataframe tbody tr th {\n",
       "        vertical-align: top;\n",
       "    }\n",
       "\n",
       "    .dataframe thead th {\n",
       "        text-align: right;\n",
       "    }\n",
       "</style>\n",
       "<table border=\"1\" class=\"dataframe\">\n",
       "  <thead>\n",
       "    <tr style=\"text-align: right;\">\n",
       "      <th></th>\n",
       "      <th>Gender_Female</th>\n",
       "      <th>Student_Yes</th>\n",
       "      <th>Married_Yes</th>\n",
       "    </tr>\n",
       "  </thead>\n",
       "  <tbody>\n",
       "    <tr>\n",
       "      <th>0</th>\n",
       "      <td>0.0</td>\n",
       "      <td>0.0</td>\n",
       "      <td>1.0</td>\n",
       "    </tr>\n",
       "    <tr>\n",
       "      <th>1</th>\n",
       "      <td>1.0</td>\n",
       "      <td>1.0</td>\n",
       "      <td>1.0</td>\n",
       "    </tr>\n",
       "    <tr>\n",
       "      <th>2</th>\n",
       "      <td>0.0</td>\n",
       "      <td>0.0</td>\n",
       "      <td>0.0</td>\n",
       "    </tr>\n",
       "    <tr>\n",
       "      <th>3</th>\n",
       "      <td>1.0</td>\n",
       "      <td>0.0</td>\n",
       "      <td>0.0</td>\n",
       "    </tr>\n",
       "    <tr>\n",
       "      <th>4</th>\n",
       "      <td>0.0</td>\n",
       "      <td>0.0</td>\n",
       "      <td>1.0</td>\n",
       "    </tr>\n",
       "  </tbody>\n",
       "</table>\n",
       "</div>"
      ],
      "text/plain": [
       "   Gender_Female  Student_Yes  Married_Yes\n",
       "0            0.0          0.0          1.0\n",
       "1            1.0          1.0          1.0\n",
       "2            0.0          0.0          0.0\n",
       "3            1.0          0.0          0.0\n",
       "4            0.0          0.0          1.0"
      ]
     },
     "execution_count": 29,
     "metadata": {},
     "output_type": "execute_result"
    }
   ],
   "source": [
    "one_hot = OneHotEncoder(sparse=False, drop=\"first\")\n",
    "one_hot.fit(df_cat)\n",
    "df_one_hot = pd.DataFrame(one_hot.transform(df_cat), columns=one_hot.get_feature_names_out())\n",
    "df_one_hot.head()"
   ]
  },
  {
   "cell_type": "markdown",
   "metadata": {},
   "source": [
    "**b.3)** Realice un proceso similar para estandarizar las variables numéricas, guarde el resultado en el objeto `df_num_std`."
   ]
  },
  {
   "cell_type": "code",
   "execution_count": 30,
   "metadata": {},
   "outputs": [
    {
     "data": {
      "text/html": [
       "<div>\n",
       "<style scoped>\n",
       "    .dataframe tbody tr th:only-of-type {\n",
       "        vertical-align: middle;\n",
       "    }\n",
       "\n",
       "    .dataframe tbody tr th {\n",
       "        vertical-align: top;\n",
       "    }\n",
       "\n",
       "    .dataframe thead th {\n",
       "        text-align: right;\n",
       "    }\n",
       "</style>\n",
       "<table border=\"1\" class=\"dataframe\">\n",
       "  <thead>\n",
       "    <tr style=\"text-align: right;\">\n",
       "      <th></th>\n",
       "      <th>Income</th>\n",
       "      <th>Limit</th>\n",
       "      <th>Rating</th>\n",
       "      <th>Cards</th>\n",
       "      <th>Age</th>\n",
       "      <th>Education</th>\n",
       "    </tr>\n",
       "  </thead>\n",
       "  <tbody>\n",
       "    <tr>\n",
       "      <th>0</th>\n",
       "      <td>-0.861583</td>\n",
       "      <td>-0.489999</td>\n",
       "      <td>-0.465539</td>\n",
       "      <td>-0.699130</td>\n",
       "      <td>-1.257674</td>\n",
       "      <td>-0.784930</td>\n",
       "    </tr>\n",
       "    <tr>\n",
       "      <th>1</th>\n",
       "      <td>1.727437</td>\n",
       "      <td>0.828261</td>\n",
       "      <td>0.828703</td>\n",
       "      <td>0.031032</td>\n",
       "      <td>1.528451</td>\n",
       "      <td>0.496588</td>\n",
       "    </tr>\n",
       "    <tr>\n",
       "      <th>2</th>\n",
       "      <td>1.686756</td>\n",
       "      <td>1.014787</td>\n",
       "      <td>1.029311</td>\n",
       "      <td>0.761194</td>\n",
       "      <td>0.889964</td>\n",
       "      <td>-0.784930</td>\n",
       "    </tr>\n",
       "    <tr>\n",
       "      <th>3</th>\n",
       "      <td>2.946152</td>\n",
       "      <td>2.068440</td>\n",
       "      <td>2.110003</td>\n",
       "      <td>0.031032</td>\n",
       "      <td>-1.141586</td>\n",
       "      <td>-0.784930</td>\n",
       "    </tr>\n",
       "    <tr>\n",
       "      <th>4</th>\n",
       "      <td>0.302928</td>\n",
       "      <td>0.070012</td>\n",
       "      <td>0.013331</td>\n",
       "      <td>-0.699130</td>\n",
       "      <td>0.715831</td>\n",
       "      <td>0.816968</td>\n",
       "    </tr>\n",
       "  </tbody>\n",
       "</table>\n",
       "</div>"
      ],
      "text/plain": [
       "     Income     Limit    Rating     Cards       Age  Education\n",
       "0 -0.861583 -0.489999 -0.465539 -0.699130 -1.257674  -0.784930\n",
       "1  1.727437  0.828261  0.828703  0.031032  1.528451   0.496588\n",
       "2  1.686756  1.014787  1.029311  0.761194  0.889964  -0.784930\n",
       "3  2.946152  2.068440  2.110003  0.031032 -1.141586  -0.784930\n",
       "4  0.302928  0.070012  0.013331 -0.699130  0.715831   0.816968"
      ]
     },
     "execution_count": 30,
     "metadata": {},
     "output_type": "execute_result"
    }
   ],
   "source": [
    "estand = StandardScaler()\n",
    "estand.fit(df_num)\n",
    "df_num_std = pd.DataFrame(estand.transform(df_num), columns=estand.get_feature_names_out())\n",
    "df_num_std.head()"
   ]
  },
  {
   "cell_type": "markdown",
   "metadata": {},
   "source": [
    "**b.3)** Junte el objeto `df_num` con `df_one_hot` usando la función de pandas `concat([df_num, df_one_hot], axis=1)`, de modo que en un objeto `X` se encuentren todas las variables."
   ]
  },
  {
   "cell_type": "code",
   "execution_count": 31,
   "metadata": {},
   "outputs": [
    {
     "data": {
      "text/html": [
       "<div>\n",
       "<style scoped>\n",
       "    .dataframe tbody tr th:only-of-type {\n",
       "        vertical-align: middle;\n",
       "    }\n",
       "\n",
       "    .dataframe tbody tr th {\n",
       "        vertical-align: top;\n",
       "    }\n",
       "\n",
       "    .dataframe thead th {\n",
       "        text-align: right;\n",
       "    }\n",
       "</style>\n",
       "<table border=\"1\" class=\"dataframe\">\n",
       "  <thead>\n",
       "    <tr style=\"text-align: right;\">\n",
       "      <th></th>\n",
       "      <th>Income</th>\n",
       "      <th>Limit</th>\n",
       "      <th>Rating</th>\n",
       "      <th>Cards</th>\n",
       "      <th>Age</th>\n",
       "      <th>Education</th>\n",
       "      <th>Gender_Female</th>\n",
       "      <th>Student_Yes</th>\n",
       "      <th>Married_Yes</th>\n",
       "    </tr>\n",
       "  </thead>\n",
       "  <tbody>\n",
       "    <tr>\n",
       "      <th>0</th>\n",
       "      <td>-0.861583</td>\n",
       "      <td>-0.489999</td>\n",
       "      <td>-0.465539</td>\n",
       "      <td>-0.699130</td>\n",
       "      <td>-1.257674</td>\n",
       "      <td>-0.784930</td>\n",
       "      <td>0.0</td>\n",
       "      <td>0.0</td>\n",
       "      <td>1.0</td>\n",
       "    </tr>\n",
       "    <tr>\n",
       "      <th>1</th>\n",
       "      <td>1.727437</td>\n",
       "      <td>0.828261</td>\n",
       "      <td>0.828703</td>\n",
       "      <td>0.031032</td>\n",
       "      <td>1.528451</td>\n",
       "      <td>0.496588</td>\n",
       "      <td>1.0</td>\n",
       "      <td>1.0</td>\n",
       "      <td>1.0</td>\n",
       "    </tr>\n",
       "    <tr>\n",
       "      <th>2</th>\n",
       "      <td>1.686756</td>\n",
       "      <td>1.014787</td>\n",
       "      <td>1.029311</td>\n",
       "      <td>0.761194</td>\n",
       "      <td>0.889964</td>\n",
       "      <td>-0.784930</td>\n",
       "      <td>0.0</td>\n",
       "      <td>0.0</td>\n",
       "      <td>0.0</td>\n",
       "    </tr>\n",
       "    <tr>\n",
       "      <th>3</th>\n",
       "      <td>2.946152</td>\n",
       "      <td>2.068440</td>\n",
       "      <td>2.110003</td>\n",
       "      <td>0.031032</td>\n",
       "      <td>-1.141586</td>\n",
       "      <td>-0.784930</td>\n",
       "      <td>1.0</td>\n",
       "      <td>0.0</td>\n",
       "      <td>0.0</td>\n",
       "    </tr>\n",
       "    <tr>\n",
       "      <th>4</th>\n",
       "      <td>0.302928</td>\n",
       "      <td>0.070012</td>\n",
       "      <td>0.013331</td>\n",
       "      <td>-0.699130</td>\n",
       "      <td>0.715831</td>\n",
       "      <td>0.816968</td>\n",
       "      <td>0.0</td>\n",
       "      <td>0.0</td>\n",
       "      <td>1.0</td>\n",
       "    </tr>\n",
       "  </tbody>\n",
       "</table>\n",
       "</div>"
      ],
      "text/plain": [
       "     Income     Limit    Rating     Cards       Age  Education  Gender_Female  \\\n",
       "0 -0.861583 -0.489999 -0.465539 -0.699130 -1.257674  -0.784930            0.0   \n",
       "1  1.727437  0.828261  0.828703  0.031032  1.528451   0.496588            1.0   \n",
       "2  1.686756  1.014787  1.029311  0.761194  0.889964  -0.784930            0.0   \n",
       "3  2.946152  2.068440  2.110003  0.031032 -1.141586  -0.784930            1.0   \n",
       "4  0.302928  0.070012  0.013331 -0.699130  0.715831   0.816968            0.0   \n",
       "\n",
       "   Student_Yes  Married_Yes  \n",
       "0          0.0          1.0  \n",
       "1          1.0          1.0  \n",
       "2          0.0          0.0  \n",
       "3          0.0          0.0  \n",
       "4          0.0          1.0  "
      ]
     },
     "execution_count": 31,
     "metadata": {},
     "output_type": "execute_result"
    }
   ],
   "source": [
    "X = pd.concat([df_num_std, df_one_hot], axis=1)\n",
    "X.head()"
   ]
  },
  {
   "cell_type": "markdown",
   "metadata": {},
   "source": [
    "**c)** Defina sets de entrenamiento y testeo con un porcentaje de datos de entrenamiento del 75%."
   ]
  },
  {
   "cell_type": "code",
   "execution_count": 32,
   "metadata": {},
   "outputs": [],
   "source": [
    "from sklearn.model_selection import train_test_split\n",
    "\n",
    "X_train, X_test, y_train, y_test = train_test_split(X, y, test_size=0.25, random_state=2022)"
   ]
  },
  {
   "cell_type": "markdown",
   "metadata": {},
   "source": [
    "**d)** Entrene un Support Vector Machine con kernel gaussiano (`kernel=\"rbf\"`) en los datos de entrenamiento. Obtenga el accuracy de validación cruzada con la estratregia de 5-Folds (recuerde que esto se lleva a cabo con la función `cross_val_score`, la clase `KFold` y con los datos de entrenamiento)."
   ]
  },
  {
   "cell_type": "code",
   "execution_count": 33,
   "metadata": {},
   "outputs": [
    {
     "name": "stdout",
     "output_type": "stream",
     "text": [
      "Accuracy en CV: 0.9433333333333331\n"
     ]
    }
   ],
   "source": [
    "from sklearn.svm import SVC\n",
    "\n",
    "model = SVC(kernel=\"rbf\")\n",
    "\n",
    "resultados = cross_val_score(\n",
    "    estimator = model,\n",
    "    X         = X_train,\n",
    "    y         = y_train,\n",
    "    cv        = KFold(n_splits=5, shuffle=True, random_state=2022),\n",
    "    scoring   = \"accuracy\"\n",
    ")\n",
    "print(\"Accuracy en CV:\", resultados.mean())"
   ]
  },
  {
   "cell_type": "markdown",
   "metadata": {},
   "source": [
    "**e)** Mediante validación cruzada, encuentre el kernel y variables slack que máximicen el `F1`. A continuación, se propone una grilla de valores posibles.\n",
    "\n",
    "```python\n",
    "parametros = {\n",
    "    \"kernel\": [\"rbf\", \"linear\", \"poly\"],\n",
    "    \"C\"     : np.logspace(-3, 1, 10) # variables slack\n",
    "}\n",
    "```"
   ]
  },
  {
   "cell_type": "code",
   "execution_count": 34,
   "metadata": {},
   "outputs": [
    {
     "name": "stdout",
     "output_type": "stream",
     "text": [
      "Fitting 5 folds for each of 60 candidates, totalling 300 fits\n"
     ]
    },
    {
     "data": {
      "text/html": [
       "<style>#sk-container-id-2 {color: black;background-color: white;}#sk-container-id-2 pre{padding: 0;}#sk-container-id-2 div.sk-toggleable {background-color: white;}#sk-container-id-2 label.sk-toggleable__label {cursor: pointer;display: block;width: 100%;margin-bottom: 0;padding: 0.3em;box-sizing: border-box;text-align: center;}#sk-container-id-2 label.sk-toggleable__label-arrow:before {content: \"▸\";float: left;margin-right: 0.25em;color: #696969;}#sk-container-id-2 label.sk-toggleable__label-arrow:hover:before {color: black;}#sk-container-id-2 div.sk-estimator:hover label.sk-toggleable__label-arrow:before {color: black;}#sk-container-id-2 div.sk-toggleable__content {max-height: 0;max-width: 0;overflow: hidden;text-align: left;background-color: #f0f8ff;}#sk-container-id-2 div.sk-toggleable__content pre {margin: 0.2em;color: black;border-radius: 0.25em;background-color: #f0f8ff;}#sk-container-id-2 input.sk-toggleable__control:checked~div.sk-toggleable__content {max-height: 200px;max-width: 100%;overflow: auto;}#sk-container-id-2 input.sk-toggleable__control:checked~label.sk-toggleable__label-arrow:before {content: \"▾\";}#sk-container-id-2 div.sk-estimator input.sk-toggleable__control:checked~label.sk-toggleable__label {background-color: #d4ebff;}#sk-container-id-2 div.sk-label input.sk-toggleable__control:checked~label.sk-toggleable__label {background-color: #d4ebff;}#sk-container-id-2 input.sk-hidden--visually {border: 0;clip: rect(1px 1px 1px 1px);clip: rect(1px, 1px, 1px, 1px);height: 1px;margin: -1px;overflow: hidden;padding: 0;position: absolute;width: 1px;}#sk-container-id-2 div.sk-estimator {font-family: monospace;background-color: #f0f8ff;border: 1px dotted black;border-radius: 0.25em;box-sizing: border-box;margin-bottom: 0.5em;}#sk-container-id-2 div.sk-estimator:hover {background-color: #d4ebff;}#sk-container-id-2 div.sk-parallel-item::after {content: \"\";width: 100%;border-bottom: 1px solid gray;flex-grow: 1;}#sk-container-id-2 div.sk-label:hover label.sk-toggleable__label {background-color: #d4ebff;}#sk-container-id-2 div.sk-serial::before {content: \"\";position: absolute;border-left: 1px solid gray;box-sizing: border-box;top: 0;bottom: 0;left: 50%;z-index: 0;}#sk-container-id-2 div.sk-serial {display: flex;flex-direction: column;align-items: center;background-color: white;padding-right: 0.2em;padding-left: 0.2em;position: relative;}#sk-container-id-2 div.sk-item {position: relative;z-index: 1;}#sk-container-id-2 div.sk-parallel {display: flex;align-items: stretch;justify-content: center;background-color: white;position: relative;}#sk-container-id-2 div.sk-item::before, #sk-container-id-2 div.sk-parallel-item::before {content: \"\";position: absolute;border-left: 1px solid gray;box-sizing: border-box;top: 0;bottom: 0;left: 50%;z-index: -1;}#sk-container-id-2 div.sk-parallel-item {display: flex;flex-direction: column;z-index: 1;position: relative;background-color: white;}#sk-container-id-2 div.sk-parallel-item:first-child::after {align-self: flex-end;width: 50%;}#sk-container-id-2 div.sk-parallel-item:last-child::after {align-self: flex-start;width: 50%;}#sk-container-id-2 div.sk-parallel-item:only-child::after {width: 0;}#sk-container-id-2 div.sk-dashed-wrapped {border: 1px dashed gray;margin: 0 0.4em 0.5em 0.4em;box-sizing: border-box;padding-bottom: 0.4em;background-color: white;}#sk-container-id-2 div.sk-label label {font-family: monospace;font-weight: bold;display: inline-block;line-height: 1.2em;}#sk-container-id-2 div.sk-label-container {text-align: center;}#sk-container-id-2 div.sk-container {/* jupyter's `normalize.less` sets `[hidden] { display: none; }` but bootstrap.min.css set `[hidden] { display: none !important; }` so we also need the `!important` here to be able to override the default hidden behavior on the sphinx rendered scikit-learn.org. See: https://github.com/scikit-learn/scikit-learn/issues/21755 */display: inline-block !important;position: relative;}#sk-container-id-2 div.sk-text-repr-fallback {display: none;}</style><div id=\"sk-container-id-2\" class=\"sk-top-container\"><div class=\"sk-text-repr-fallback\"><pre>GridSearchCV(cv=KFold(n_splits=5, random_state=2022, shuffle=True),\n",
       "             estimator=SVC(), n_jobs=-1,\n",
       "             param_grid={&#x27;C&#x27;: array([1.00000000e-03, 1.62377674e-03, 2.63665090e-03, 4.28133240e-03,\n",
       "       6.95192796e-03, 1.12883789e-02, 1.83298071e-02, 2.97635144e-02,\n",
       "       4.83293024e-02, 7.84759970e-02, 1.27427499e-01, 2.06913808e-01,\n",
       "       3.35981829e-01, 5.45559478e-01, 8.85866790e-01, 1.43844989e+00,\n",
       "       2.33572147e+00, 3.79269019e+00, 6.15848211e+00, 1.00000000e+01]),\n",
       "                         &#x27;kernel&#x27;: [&#x27;rbf&#x27;, &#x27;linear&#x27;, &#x27;poly&#x27;]},\n",
       "             scoring=&#x27;f1&#x27;, verbose=1)</pre><b>In a Jupyter environment, please rerun this cell to show the HTML representation or trust the notebook. <br />On GitHub, the HTML representation is unable to render, please try loading this page with nbviewer.org.</b></div><div class=\"sk-container\" hidden><div class=\"sk-item sk-dashed-wrapped\"><div class=\"sk-label-container\"><div class=\"sk-label sk-toggleable\"><input class=\"sk-toggleable__control sk-hidden--visually\" id=\"sk-estimator-id-4\" type=\"checkbox\" ><label for=\"sk-estimator-id-4\" class=\"sk-toggleable__label sk-toggleable__label-arrow\">GridSearchCV</label><div class=\"sk-toggleable__content\"><pre>GridSearchCV(cv=KFold(n_splits=5, random_state=2022, shuffle=True),\n",
       "             estimator=SVC(), n_jobs=-1,\n",
       "             param_grid={&#x27;C&#x27;: array([1.00000000e-03, 1.62377674e-03, 2.63665090e-03, 4.28133240e-03,\n",
       "       6.95192796e-03, 1.12883789e-02, 1.83298071e-02, 2.97635144e-02,\n",
       "       4.83293024e-02, 7.84759970e-02, 1.27427499e-01, 2.06913808e-01,\n",
       "       3.35981829e-01, 5.45559478e-01, 8.85866790e-01, 1.43844989e+00,\n",
       "       2.33572147e+00, 3.79269019e+00, 6.15848211e+00, 1.00000000e+01]),\n",
       "                         &#x27;kernel&#x27;: [&#x27;rbf&#x27;, &#x27;linear&#x27;, &#x27;poly&#x27;]},\n",
       "             scoring=&#x27;f1&#x27;, verbose=1)</pre></div></div></div><div class=\"sk-parallel\"><div class=\"sk-parallel-item\"><div class=\"sk-item\"><div class=\"sk-label-container\"><div class=\"sk-label sk-toggleable\"><input class=\"sk-toggleable__control sk-hidden--visually\" id=\"sk-estimator-id-5\" type=\"checkbox\" ><label for=\"sk-estimator-id-5\" class=\"sk-toggleable__label sk-toggleable__label-arrow\">estimator: SVC</label><div class=\"sk-toggleable__content\"><pre>SVC()</pre></div></div></div><div class=\"sk-serial\"><div class=\"sk-item\"><div class=\"sk-estimator sk-toggleable\"><input class=\"sk-toggleable__control sk-hidden--visually\" id=\"sk-estimator-id-6\" type=\"checkbox\" ><label for=\"sk-estimator-id-6\" class=\"sk-toggleable__label sk-toggleable__label-arrow\">SVC</label><div class=\"sk-toggleable__content\"><pre>SVC()</pre></div></div></div></div></div></div></div></div></div></div>"
      ],
      "text/plain": [
       "GridSearchCV(cv=KFold(n_splits=5, random_state=2022, shuffle=True),\n",
       "             estimator=SVC(), n_jobs=-1,\n",
       "             param_grid={'C': array([1.00000000e-03, 1.62377674e-03, 2.63665090e-03, 4.28133240e-03,\n",
       "       6.95192796e-03, 1.12883789e-02, 1.83298071e-02, 2.97635144e-02,\n",
       "       4.83293024e-02, 7.84759970e-02, 1.27427499e-01, 2.06913808e-01,\n",
       "       3.35981829e-01, 5.45559478e-01, 8.85866790e-01, 1.43844989e+00,\n",
       "       2.33572147e+00, 3.79269019e+00, 6.15848211e+00, 1.00000000e+01]),\n",
       "                         'kernel': ['rbf', 'linear', 'poly']},\n",
       "             scoring='f1', verbose=1)"
      ]
     },
     "execution_count": 34,
     "metadata": {},
     "output_type": "execute_result"
    }
   ],
   "source": [
    "parametros = {\n",
    "    \"kernel\": [\"rbf\", \"linear\", \"poly\"],\n",
    "    \"C\"     : np.logspace(-3, 1, 20) \n",
    "}\n",
    "modelos = GridSearchCV(\n",
    "    estimator  = model,\n",
    "    param_grid = parametros,\n",
    "    cv         = KFold(n_splits=5, shuffle=True, random_state=2022),\n",
    "    scoring    = \"f1\",\n",
    "    n_jobs     = -1,\n",
    "    verbose    = 1\n",
    ")\n",
    "modelos.fit(X_train, y_train)"
   ]
  },
  {
   "cell_type": "code",
   "execution_count": 35,
   "metadata": {},
   "outputs": [
    {
     "data": {
      "text/html": [
       "<style type=\"text/css\">\n",
       "#T_72fec_row0_col1 {\n",
       "  width: 10em;\n",
       "  background: linear-gradient(90deg, #d65f5f 100.0%, transparent 100.0%);\n",
       "}\n",
       "#T_72fec_row1_col1, #T_72fec_row2_col1, #T_72fec_row3_col1, #T_72fec_row4_col1 {\n",
       "  width: 10em;\n",
       "  background: linear-gradient(90deg, #d65f5f 99.7%, transparent 99.7%);\n",
       "}\n",
       "#T_72fec_row5_col1, #T_72fec_row6_col1 {\n",
       "  width: 10em;\n",
       "  background: linear-gradient(90deg, #d65f5f 99.3%, transparent 99.3%);\n",
       "}\n",
       "#T_72fec_row7_col1 {\n",
       "  width: 10em;\n",
       "  background: linear-gradient(90deg, #d65f5f 98.9%, transparent 98.9%);\n",
       "}\n",
       "#T_72fec_row8_col1, #T_72fec_row9_col1 {\n",
       "  width: 10em;\n",
       "  background: linear-gradient(90deg, #d65f5f 98.6%, transparent 98.6%);\n",
       "}\n",
       "#T_72fec_row10_col1 {\n",
       "  width: 10em;\n",
       "  background: linear-gradient(90deg, #d65f5f 98.0%, transparent 98.0%);\n",
       "}\n",
       "#T_72fec_row11_col1 {\n",
       "  width: 10em;\n",
       "  background: linear-gradient(90deg, #d65f5f 97.7%, transparent 97.7%);\n",
       "}\n",
       "#T_72fec_row12_col1 {\n",
       "  width: 10em;\n",
       "  background: linear-gradient(90deg, #d65f5f 97.5%, transparent 97.5%);\n",
       "}\n",
       "#T_72fec_row13_col1, #T_72fec_row14_col1, #T_72fec_row15_col1 {\n",
       "  width: 10em;\n",
       "  background: linear-gradient(90deg, #d65f5f 97.4%, transparent 97.4%);\n",
       "}\n",
       "#T_72fec_row16_col1 {\n",
       "  width: 10em;\n",
       "  background: linear-gradient(90deg, #d65f5f 97.2%, transparent 97.2%);\n",
       "}\n",
       "#T_72fec_row17_col1 {\n",
       "  width: 10em;\n",
       "  background: linear-gradient(90deg, #d65f5f 96.6%, transparent 96.6%);\n",
       "}\n",
       "#T_72fec_row18_col1 {\n",
       "  width: 10em;\n",
       "  background: linear-gradient(90deg, #d65f5f 96.3%, transparent 96.3%);\n",
       "}\n",
       "#T_72fec_row19_col1 {\n",
       "  width: 10em;\n",
       "  background: linear-gradient(90deg, #d65f5f 96.0%, transparent 96.0%);\n",
       "}\n",
       "#T_72fec_row20_col1 {\n",
       "  width: 10em;\n",
       "  background: linear-gradient(90deg, #d65f5f 95.6%, transparent 95.6%);\n",
       "}\n",
       "#T_72fec_row21_col1, #T_72fec_row22_col1 {\n",
       "  width: 10em;\n",
       "  background: linear-gradient(90deg, #d65f5f 95.0%, transparent 95.0%);\n",
       "}\n",
       "#T_72fec_row23_col1, #T_72fec_row24_col1 {\n",
       "  width: 10em;\n",
       "  background: linear-gradient(90deg, #d65f5f 94.9%, transparent 94.9%);\n",
       "}\n",
       "#T_72fec_row25_col1 {\n",
       "  width: 10em;\n",
       "  background: linear-gradient(90deg, #d65f5f 94.7%, transparent 94.7%);\n",
       "}\n",
       "#T_72fec_row26_col1 {\n",
       "  width: 10em;\n",
       "  background: linear-gradient(90deg, #d65f5f 94.5%, transparent 94.5%);\n",
       "}\n",
       "#T_72fec_row27_col1, #T_72fec_row28_col1 {\n",
       "  width: 10em;\n",
       "  background: linear-gradient(90deg, #d65f5f 94.3%, transparent 94.3%);\n",
       "}\n",
       "#T_72fec_row29_col1 {\n",
       "  width: 10em;\n",
       "  background: linear-gradient(90deg, #d65f5f 93.1%, transparent 93.1%);\n",
       "}\n",
       "#T_72fec_row30_col1, #T_72fec_row31_col1 {\n",
       "  width: 10em;\n",
       "  background: linear-gradient(90deg, #d65f5f 92.7%, transparent 92.7%);\n",
       "}\n",
       "#T_72fec_row32_col1 {\n",
       "  width: 10em;\n",
       "  background: linear-gradient(90deg, #d65f5f 92.3%, transparent 92.3%);\n",
       "}\n",
       "#T_72fec_row33_col1 {\n",
       "  width: 10em;\n",
       "  background: linear-gradient(90deg, #d65f5f 92.0%, transparent 92.0%);\n",
       "}\n",
       "#T_72fec_row34_col1 {\n",
       "  width: 10em;\n",
       "  background: linear-gradient(90deg, #d65f5f 91.6%, transparent 91.6%);\n",
       "}\n",
       "#T_72fec_row35_col1 {\n",
       "  width: 10em;\n",
       "  background: linear-gradient(90deg, #d65f5f 91.3%, transparent 91.3%);\n",
       "}\n",
       "#T_72fec_row36_col1 {\n",
       "  width: 10em;\n",
       "  background: linear-gradient(90deg, #d65f5f 90.4%, transparent 90.4%);\n",
       "}\n",
       "#T_72fec_row37_col1 {\n",
       "  width: 10em;\n",
       "  background: linear-gradient(90deg, #d65f5f 89.3%, transparent 89.3%);\n",
       "}\n",
       "#T_72fec_row38_col1 {\n",
       "  width: 10em;\n",
       "  background: linear-gradient(90deg, #d65f5f 88.6%, transparent 88.6%);\n",
       "}\n",
       "#T_72fec_row39_col1 {\n",
       "  width: 10em;\n",
       "  background: linear-gradient(90deg, #d65f5f 87.0%, transparent 87.0%);\n",
       "}\n",
       "#T_72fec_row40_col1 {\n",
       "  width: 10em;\n",
       "  background: linear-gradient(90deg, #d65f5f 78.3%, transparent 78.3%);\n",
       "}\n",
       "#T_72fec_row41_col1 {\n",
       "  width: 10em;\n",
       "  background: linear-gradient(90deg, #d65f5f 76.0%, transparent 76.0%);\n",
       "}\n",
       "#T_72fec_row42_col1 {\n",
       "  width: 10em;\n",
       "  background: linear-gradient(90deg, #d65f5f 72.8%, transparent 72.8%);\n",
       "}\n",
       "#T_72fec_row43_col1 {\n",
       "  width: 10em;\n",
       "  background: linear-gradient(90deg, #d65f5f 68.1%, transparent 68.1%);\n",
       "}\n",
       "#T_72fec_row44_col1 {\n",
       "  width: 10em;\n",
       "  background: linear-gradient(90deg, #d65f5f 66.9%, transparent 66.9%);\n",
       "}\n",
       "#T_72fec_row45_col1 {\n",
       "  width: 10em;\n",
       "  background: linear-gradient(90deg, #d65f5f 54.7%, transparent 54.7%);\n",
       "}\n",
       "#T_72fec_row46_col1, #T_72fec_row47_col1, #T_72fec_row48_col1, #T_72fec_row49_col1, #T_72fec_row50_col1, #T_72fec_row51_col1, #T_72fec_row52_col1, #T_72fec_row53_col1 {\n",
       "  width: 10em;\n",
       "  background: linear-gradient(90deg, #d65f5f 53.2%, transparent 53.2%);\n",
       "}\n",
       "#T_72fec_row54_col1 {\n",
       "  width: 10em;\n",
       "  background: linear-gradient(90deg, #d65f5f 49.1%, transparent 49.1%);\n",
       "}\n",
       "#T_72fec_row55_col1 {\n",
       "  width: 10em;\n",
       "  background: linear-gradient(90deg, #d65f5f 48.8%, transparent 48.8%);\n",
       "}\n",
       "#T_72fec_row56_col1 {\n",
       "  width: 10em;\n",
       "  background: linear-gradient(90deg, #d65f5f 43.7%, transparent 43.7%);\n",
       "}\n",
       "#T_72fec_row57_col1 {\n",
       "  width: 10em;\n",
       "  background: linear-gradient(90deg, #d65f5f 31.7%, transparent 31.7%);\n",
       "}\n",
       "#T_72fec_row58_col1 {\n",
       "  width: 10em;\n",
       "  background: linear-gradient(90deg, #d65f5f 31.6%, transparent 31.6%);\n",
       "}\n",
       "#T_72fec_row59_col1 {\n",
       "  width: 10em;\n",
       "  background: linear-gradient(90deg, #d65f5f 24.3%, transparent 24.3%);\n",
       "}\n",
       "</style>\n",
       "<table id=\"T_72fec\">\n",
       "  <thead>\n",
       "    <tr>\n",
       "      <th class=\"blank level0\" >&nbsp;</th>\n",
       "      <th id=\"T_72fec_level0_col0\" class=\"col_heading level0 col0\" >params</th>\n",
       "      <th id=\"T_72fec_level0_col1\" class=\"col_heading level0 col1\" >mean_test_score</th>\n",
       "      <th id=\"T_72fec_level0_col2\" class=\"col_heading level0 col2\" >rank_test_score</th>\n",
       "    </tr>\n",
       "  </thead>\n",
       "  <tbody>\n",
       "    <tr>\n",
       "      <th id=\"T_72fec_level0_row0\" class=\"row_heading level0 row0\" >46</th>\n",
       "      <td id=\"T_72fec_row0_col0\" class=\"data row0 col0\" >{'C': 1.438449888287663, 'kernel': 'linear'}</td>\n",
       "      <td id=\"T_72fec_row0_col1\" class=\"data row0 col1\" >0.968856</td>\n",
       "      <td id=\"T_72fec_row0_col2\" class=\"data row0 col2\" >1</td>\n",
       "    </tr>\n",
       "    <tr>\n",
       "      <th id=\"T_72fec_level0_row1\" class=\"row_heading level0 row1\" >40</th>\n",
       "      <td id=\"T_72fec_row1_col0\" class=\"data row1 col0\" >{'C': 0.5455594781168515, 'kernel': 'linear'}</td>\n",
       "      <td id=\"T_72fec_row1_col1\" class=\"data row1 col1\" >0.966049</td>\n",
       "      <td id=\"T_72fec_row1_col2\" class=\"data row1 col2\" >2</td>\n",
       "    </tr>\n",
       "    <tr>\n",
       "      <th id=\"T_72fec_level0_row2\" class=\"row_heading level0 row2\" >43</th>\n",
       "      <td id=\"T_72fec_row2_col0\" class=\"data row2 col0\" >{'C': 0.8858667904100823, 'kernel': 'linear'}</td>\n",
       "      <td id=\"T_72fec_row2_col1\" class=\"data row2 col1\" >0.966049</td>\n",
       "      <td id=\"T_72fec_row2_col2\" class=\"data row2 col2\" >2</td>\n",
       "    </tr>\n",
       "    <tr>\n",
       "      <th id=\"T_72fec_level0_row3\" class=\"row_heading level0 row3\" >55</th>\n",
       "      <td id=\"T_72fec_row3_col0\" class=\"data row3 col0\" >{'C': 6.158482110660261, 'kernel': 'linear'}</td>\n",
       "      <td id=\"T_72fec_row3_col1\" class=\"data row3 col1\" >0.965596</td>\n",
       "      <td id=\"T_72fec_row3_col2\" class=\"data row3 col2\" >4</td>\n",
       "    </tr>\n",
       "    <tr>\n",
       "      <th id=\"T_72fec_level0_row4\" class=\"row_heading level0 row4\" >49</th>\n",
       "      <td id=\"T_72fec_row4_col0\" class=\"data row4 col0\" >{'C': 2.3357214690901213, 'kernel': 'linear'}</td>\n",
       "      <td id=\"T_72fec_row4_col1\" class=\"data row4 col1\" >0.965468</td>\n",
       "      <td id=\"T_72fec_row4_col2\" class=\"data row4 col2\" >5</td>\n",
       "    </tr>\n",
       "    <tr>\n",
       "      <th id=\"T_72fec_level0_row5\" class=\"row_heading level0 row5\" >37</th>\n",
       "      <td id=\"T_72fec_row5_col0\" class=\"data row5 col0\" >{'C': 0.3359818286283781, 'kernel': 'linear'}</td>\n",
       "      <td id=\"T_72fec_row5_col1\" class=\"data row5 col1\" >0.962543</td>\n",
       "      <td id=\"T_72fec_row5_col2\" class=\"data row5 col2\" >6</td>\n",
       "    </tr>\n",
       "    <tr>\n",
       "      <th id=\"T_72fec_level0_row6\" class=\"row_heading level0 row6\" >58</th>\n",
       "      <td id=\"T_72fec_row6_col0\" class=\"data row6 col0\" >{'C': 10.0, 'kernel': 'linear'}</td>\n",
       "      <td id=\"T_72fec_row6_col1\" class=\"data row6 col1\" >0.961962</td>\n",
       "      <td id=\"T_72fec_row6_col2\" class=\"data row6 col2\" >7</td>\n",
       "    </tr>\n",
       "    <tr>\n",
       "      <th id=\"T_72fec_level0_row7\" class=\"row_heading level0 row7\" >52</th>\n",
       "      <td id=\"T_72fec_row7_col0\" class=\"data row7 col0\" >{'C': 3.792690190732246, 'kernel': 'linear'}</td>\n",
       "      <td id=\"T_72fec_row7_col1\" class=\"data row7 col1\" >0.958196</td>\n",
       "      <td id=\"T_72fec_row7_col2\" class=\"data row7 col2\" >8</td>\n",
       "    </tr>\n",
       "    <tr>\n",
       "      <th id=\"T_72fec_level0_row8\" class=\"row_heading level0 row8\" >31</th>\n",
       "      <td id=\"T_72fec_row8_col0\" class=\"data row8 col0\" >{'C': 0.12742749857031335, 'kernel': 'linear'}</td>\n",
       "      <td id=\"T_72fec_row8_col1\" class=\"data row8 col1\" >0.955709</td>\n",
       "      <td id=\"T_72fec_row8_col2\" class=\"data row8 col2\" >9</td>\n",
       "    </tr>\n",
       "    <tr>\n",
       "      <th id=\"T_72fec_level0_row9\" class=\"row_heading level0 row9\" >34</th>\n",
       "      <td id=\"T_72fec_row9_col0\" class=\"data row9 col0\" >{'C': 0.20691380811147903, 'kernel': 'linear'}</td>\n",
       "      <td id=\"T_72fec_row9_col1\" class=\"data row9 col1\" >0.955270</td>\n",
       "      <td id=\"T_72fec_row9_col2\" class=\"data row9 col2\" >10</td>\n",
       "    </tr>\n",
       "    <tr>\n",
       "      <th id=\"T_72fec_level0_row10\" class=\"row_heading level0 row10\" >25</th>\n",
       "      <td id=\"T_72fec_row10_col0\" class=\"data row10 col0\" >{'C': 0.04832930238571752, 'kernel': 'linear'}</td>\n",
       "      <td id=\"T_72fec_row10_col1\" class=\"data row10 col1\" >0.949055</td>\n",
       "      <td id=\"T_72fec_row10_col2\" class=\"data row10 col2\" >11</td>\n",
       "    </tr>\n",
       "    <tr>\n",
       "      <th id=\"T_72fec_level0_row11\" class=\"row_heading level0 row11\" >28</th>\n",
       "      <td id=\"T_72fec_row11_col0\" class=\"data row11 col0\" >{'C': 0.07847599703514611, 'kernel': 'linear'}</td>\n",
       "      <td id=\"T_72fec_row11_col1\" class=\"data row11 col1\" >0.946512</td>\n",
       "      <td id=\"T_72fec_row11_col2\" class=\"data row11 col2\" >12</td>\n",
       "    </tr>\n",
       "    <tr>\n",
       "      <th id=\"T_72fec_level0_row12\" class=\"row_heading level0 row12\" >45</th>\n",
       "      <td id=\"T_72fec_row12_col0\" class=\"data row12 col0\" >{'C': 1.438449888287663, 'kernel': 'rbf'}</td>\n",
       "      <td id=\"T_72fec_row12_col1\" class=\"data row12 col1\" >0.944233</td>\n",
       "      <td id=\"T_72fec_row12_col2\" class=\"data row12 col2\" >13</td>\n",
       "    </tr>\n",
       "    <tr>\n",
       "      <th id=\"T_72fec_level0_row13\" class=\"row_heading level0 row13\" >48</th>\n",
       "      <td id=\"T_72fec_row13_col0\" class=\"data row13 col0\" >{'C': 2.3357214690901213, 'kernel': 'rbf'}</td>\n",
       "      <td id=\"T_72fec_row13_col1\" class=\"data row13 col1\" >0.943968</td>\n",
       "      <td id=\"T_72fec_row13_col2\" class=\"data row13 col2\" >14</td>\n",
       "    </tr>\n",
       "    <tr>\n",
       "      <th id=\"T_72fec_level0_row14\" class=\"row_heading level0 row14\" >42</th>\n",
       "      <td id=\"T_72fec_row14_col0\" class=\"data row14 col0\" >{'C': 0.8858667904100823, 'kernel': 'rbf'}</td>\n",
       "      <td id=\"T_72fec_row14_col1\" class=\"data row14 col1\" >0.943477</td>\n",
       "      <td id=\"T_72fec_row14_col2\" class=\"data row14 col2\" >15</td>\n",
       "    </tr>\n",
       "    <tr>\n",
       "      <th id=\"T_72fec_level0_row15\" class=\"row_heading level0 row15\" >51</th>\n",
       "      <td id=\"T_72fec_row15_col0\" class=\"data row15 col0\" >{'C': 3.792690190732246, 'kernel': 'rbf'}</td>\n",
       "      <td id=\"T_72fec_row15_col1\" class=\"data row15 col1\" >0.943444</td>\n",
       "      <td id=\"T_72fec_row15_col2\" class=\"data row15 col2\" >16</td>\n",
       "    </tr>\n",
       "    <tr>\n",
       "      <th id=\"T_72fec_level0_row16\" class=\"row_heading level0 row16\" >39</th>\n",
       "      <td id=\"T_72fec_row16_col0\" class=\"data row16 col0\" >{'C': 0.5455594781168515, 'kernel': 'rbf'}</td>\n",
       "      <td id=\"T_72fec_row16_col1\" class=\"data row16 col1\" >0.941288</td>\n",
       "      <td id=\"T_72fec_row16_col2\" class=\"data row16 col2\" >17</td>\n",
       "    </tr>\n",
       "    <tr>\n",
       "      <th id=\"T_72fec_level0_row17\" class=\"row_heading level0 row17\" >22</th>\n",
       "      <td id=\"T_72fec_row17_col0\" class=\"data row17 col0\" >{'C': 0.029763514416313176, 'kernel': 'linear'}</td>\n",
       "      <td id=\"T_72fec_row17_col1\" class=\"data row17 col1\" >0.935716</td>\n",
       "      <td id=\"T_72fec_row17_col2\" class=\"data row17 col2\" >18</td>\n",
       "    </tr>\n",
       "    <tr>\n",
       "      <th id=\"T_72fec_level0_row18\" class=\"row_heading level0 row18\" >54</th>\n",
       "      <td id=\"T_72fec_row18_col0\" class=\"data row18 col0\" >{'C': 6.158482110660261, 'kernel': 'rbf'}</td>\n",
       "      <td id=\"T_72fec_row18_col1\" class=\"data row18 col1\" >0.933067</td>\n",
       "      <td id=\"T_72fec_row18_col2\" class=\"data row18 col2\" >19</td>\n",
       "    </tr>\n",
       "    <tr>\n",
       "      <th id=\"T_72fec_level0_row19\" class=\"row_heading level0 row19\" >36</th>\n",
       "      <td id=\"T_72fec_row19_col0\" class=\"data row19 col0\" >{'C': 0.3359818286283781, 'kernel': 'rbf'}</td>\n",
       "      <td id=\"T_72fec_row19_col1\" class=\"data row19 col1\" >0.930122</td>\n",
       "      <td id=\"T_72fec_row19_col2\" class=\"data row19 col2\" >20</td>\n",
       "    </tr>\n",
       "    <tr>\n",
       "      <th id=\"T_72fec_level0_row20\" class=\"row_heading level0 row20\" >53</th>\n",
       "      <td id=\"T_72fec_row20_col0\" class=\"data row20 col0\" >{'C': 3.792690190732246, 'kernel': 'poly'}</td>\n",
       "      <td id=\"T_72fec_row20_col1\" class=\"data row20 col1\" >0.926162</td>\n",
       "      <td id=\"T_72fec_row20_col2\" class=\"data row20 col2\" >21</td>\n",
       "    </tr>\n",
       "    <tr>\n",
       "      <th id=\"T_72fec_level0_row21\" class=\"row_heading level0 row21\" >56</th>\n",
       "      <td id=\"T_72fec_row21_col0\" class=\"data row21 col0\" >{'C': 6.158482110660261, 'kernel': 'poly'}</td>\n",
       "      <td id=\"T_72fec_row21_col1\" class=\"data row21 col1\" >0.920833</td>\n",
       "      <td id=\"T_72fec_row21_col2\" class=\"data row21 col2\" >22</td>\n",
       "    </tr>\n",
       "    <tr>\n",
       "      <th id=\"T_72fec_level0_row22\" class=\"row_heading level0 row22\" >47</th>\n",
       "      <td id=\"T_72fec_row22_col0\" class=\"data row22 col0\" >{'C': 1.438449888287663, 'kernel': 'poly'}</td>\n",
       "      <td id=\"T_72fec_row22_col1\" class=\"data row22 col1\" >0.920414</td>\n",
       "      <td id=\"T_72fec_row22_col2\" class=\"data row22 col2\" >23</td>\n",
       "    </tr>\n",
       "    <tr>\n",
       "      <th id=\"T_72fec_level0_row23\" class=\"row_heading level0 row23\" >50</th>\n",
       "      <td id=\"T_72fec_row23_col0\" class=\"data row23 col0\" >{'C': 2.3357214690901213, 'kernel': 'poly'}</td>\n",
       "      <td id=\"T_72fec_row23_col1\" class=\"data row23 col1\" >0.919803</td>\n",
       "      <td id=\"T_72fec_row23_col2\" class=\"data row23 col2\" >24</td>\n",
       "    </tr>\n",
       "    <tr>\n",
       "      <th id=\"T_72fec_level0_row24\" class=\"row_heading level0 row24\" >41</th>\n",
       "      <td id=\"T_72fec_row24_col0\" class=\"data row24 col0\" >{'C': 0.5455594781168515, 'kernel': 'poly'}</td>\n",
       "      <td id=\"T_72fec_row24_col1\" class=\"data row24 col1\" >0.919357</td>\n",
       "      <td id=\"T_72fec_row24_col2\" class=\"data row24 col2\" >25</td>\n",
       "    </tr>\n",
       "    <tr>\n",
       "      <th id=\"T_72fec_level0_row25\" class=\"row_heading level0 row25\" >57</th>\n",
       "      <td id=\"T_72fec_row25_col0\" class=\"data row25 col0\" >{'C': 10.0, 'kernel': 'rbf'}</td>\n",
       "      <td id=\"T_72fec_row25_col1\" class=\"data row25 col1\" >0.917292</td>\n",
       "      <td id=\"T_72fec_row25_col2\" class=\"data row25 col2\" >26</td>\n",
       "    </tr>\n",
       "    <tr>\n",
       "      <th id=\"T_72fec_level0_row26\" class=\"row_heading level0 row26\" >38</th>\n",
       "      <td id=\"T_72fec_row26_col0\" class=\"data row26 col0\" >{'C': 0.3359818286283781, 'kernel': 'poly'}</td>\n",
       "      <td id=\"T_72fec_row26_col1\" class=\"data row26 col1\" >0.915407</td>\n",
       "      <td id=\"T_72fec_row26_col2\" class=\"data row26 col2\" >27</td>\n",
       "    </tr>\n",
       "    <tr>\n",
       "      <th id=\"T_72fec_level0_row27\" class=\"row_heading level0 row27\" >44</th>\n",
       "      <td id=\"T_72fec_row27_col0\" class=\"data row27 col0\" >{'C': 0.8858667904100823, 'kernel': 'poly'}</td>\n",
       "      <td id=\"T_72fec_row27_col1\" class=\"data row27 col1\" >0.913470</td>\n",
       "      <td id=\"T_72fec_row27_col2\" class=\"data row27 col2\" >28</td>\n",
       "    </tr>\n",
       "    <tr>\n",
       "      <th id=\"T_72fec_level0_row28\" class=\"row_heading level0 row28\" >19</th>\n",
       "      <td id=\"T_72fec_row28_col0\" class=\"data row28 col0\" >{'C': 0.018329807108324356, 'kernel': 'linear'}</td>\n",
       "      <td id=\"T_72fec_row28_col1\" class=\"data row28 col1\" >0.913206</td>\n",
       "      <td id=\"T_72fec_row28_col2\" class=\"data row28 col2\" >29</td>\n",
       "    </tr>\n",
       "    <tr>\n",
       "      <th id=\"T_72fec_level0_row29\" class=\"row_heading level0 row29\" >59</th>\n",
       "      <td id=\"T_72fec_row29_col0\" class=\"data row29 col0\" >{'C': 10.0, 'kernel': 'poly'}</td>\n",
       "      <td id=\"T_72fec_row29_col1\" class=\"data row29 col1\" >0.901587</td>\n",
       "      <td id=\"T_72fec_row29_col2\" class=\"data row29 col2\" >30</td>\n",
       "    </tr>\n",
       "    <tr>\n",
       "      <th id=\"T_72fec_level0_row30\" class=\"row_heading level0 row30\" >35</th>\n",
       "      <td id=\"T_72fec_row30_col0\" class=\"data row30 col0\" >{'C': 0.20691380811147903, 'kernel': 'poly'}</td>\n",
       "      <td id=\"T_72fec_row30_col1\" class=\"data row30 col1\" >0.898367</td>\n",
       "      <td id=\"T_72fec_row30_col2\" class=\"data row30 col2\" >31</td>\n",
       "    </tr>\n",
       "    <tr>\n",
       "      <th id=\"T_72fec_level0_row31\" class=\"row_heading level0 row31\" >16</th>\n",
       "      <td id=\"T_72fec_row31_col0\" class=\"data row31 col0\" >{'C': 0.011288378916846888, 'kernel': 'linear'}</td>\n",
       "      <td id=\"T_72fec_row31_col1\" class=\"data row31 col1\" >0.897830</td>\n",
       "      <td id=\"T_72fec_row31_col2\" class=\"data row31 col2\" >32</td>\n",
       "    </tr>\n",
       "    <tr>\n",
       "      <th id=\"T_72fec_level0_row32\" class=\"row_heading level0 row32\" >33</th>\n",
       "      <td id=\"T_72fec_row32_col0\" class=\"data row32 col0\" >{'C': 0.20691380811147903, 'kernel': 'rbf'}</td>\n",
       "      <td id=\"T_72fec_row32_col1\" class=\"data row32 col1\" >0.893875</td>\n",
       "      <td id=\"T_72fec_row32_col2\" class=\"data row32 col2\" >33</td>\n",
       "    </tr>\n",
       "    <tr>\n",
       "      <th id=\"T_72fec_level0_row33\" class=\"row_heading level0 row33\" >32</th>\n",
       "      <td id=\"T_72fec_row33_col0\" class=\"data row33 col0\" >{'C': 0.12742749857031335, 'kernel': 'poly'}</td>\n",
       "      <td id=\"T_72fec_row33_col1\" class=\"data row33 col1\" >0.891547</td>\n",
       "      <td id=\"T_72fec_row33_col2\" class=\"data row33 col2\" >34</td>\n",
       "    </tr>\n",
       "    <tr>\n",
       "      <th id=\"T_72fec_level0_row34\" class=\"row_heading level0 row34\" >13</th>\n",
       "      <td id=\"T_72fec_row34_col0\" class=\"data row34 col0\" >{'C': 0.0069519279617756054, 'kernel': 'linear'}</td>\n",
       "      <td id=\"T_72fec_row34_col1\" class=\"data row34 col1\" >0.887675</td>\n",
       "      <td id=\"T_72fec_row34_col2\" class=\"data row34 col2\" >35</td>\n",
       "    </tr>\n",
       "    <tr>\n",
       "      <th id=\"T_72fec_level0_row35\" class=\"row_heading level0 row35\" >30</th>\n",
       "      <td id=\"T_72fec_row35_col0\" class=\"data row35 col0\" >{'C': 0.12742749857031335, 'kernel': 'rbf'}</td>\n",
       "      <td id=\"T_72fec_row35_col1\" class=\"data row35 col1\" >0.885036</td>\n",
       "      <td id=\"T_72fec_row35_col2\" class=\"data row35 col2\" >36</td>\n",
       "    </tr>\n",
       "    <tr>\n",
       "      <th id=\"T_72fec_level0_row36\" class=\"row_heading level0 row36\" >27</th>\n",
       "      <td id=\"T_72fec_row36_col0\" class=\"data row36 col0\" >{'C': 0.07847599703514611, 'kernel': 'rbf'}</td>\n",
       "      <td id=\"T_72fec_row36_col1\" class=\"data row36 col1\" >0.875747</td>\n",
       "      <td id=\"T_72fec_row36_col2\" class=\"data row36 col2\" >37</td>\n",
       "    </tr>\n",
       "    <tr>\n",
       "      <th id=\"T_72fec_level0_row37\" class=\"row_heading level0 row37\" >24</th>\n",
       "      <td id=\"T_72fec_row37_col0\" class=\"data row37 col0\" >{'C': 0.04832930238571752, 'kernel': 'rbf'}</td>\n",
       "      <td id=\"T_72fec_row37_col1\" class=\"data row37 col1\" >0.865169</td>\n",
       "      <td id=\"T_72fec_row37_col2\" class=\"data row37 col2\" >38</td>\n",
       "    </tr>\n",
       "    <tr>\n",
       "      <th id=\"T_72fec_level0_row38\" class=\"row_heading level0 row38\" >29</th>\n",
       "      <td id=\"T_72fec_row38_col0\" class=\"data row38 col0\" >{'C': 0.07847599703514611, 'kernel': 'poly'}</td>\n",
       "      <td id=\"T_72fec_row38_col1\" class=\"data row38 col1\" >0.858783</td>\n",
       "      <td id=\"T_72fec_row38_col2\" class=\"data row38 col2\" >39</td>\n",
       "    </tr>\n",
       "    <tr>\n",
       "      <th id=\"T_72fec_level0_row39\" class=\"row_heading level0 row39\" >10</th>\n",
       "      <td id=\"T_72fec_row39_col0\" class=\"data row39 col0\" >{'C': 0.004281332398719396, 'kernel': 'linear'}</td>\n",
       "      <td id=\"T_72fec_row39_col1\" class=\"data row39 col1\" >0.842997</td>\n",
       "      <td id=\"T_72fec_row39_col2\" class=\"data row39 col2\" >40</td>\n",
       "    </tr>\n",
       "    <tr>\n",
       "      <th id=\"T_72fec_level0_row40\" class=\"row_heading level0 row40\" >7</th>\n",
       "      <td id=\"T_72fec_row40_col0\" class=\"data row40 col0\" >{'C': 0.0026366508987303583, 'kernel': 'linear'}</td>\n",
       "      <td id=\"T_72fec_row40_col1\" class=\"data row40 col1\" >0.758539</td>\n",
       "      <td id=\"T_72fec_row40_col2\" class=\"data row40 col2\" >41</td>\n",
       "    </tr>\n",
       "    <tr>\n",
       "      <th id=\"T_72fec_level0_row41\" class=\"row_heading level0 row41\" >21</th>\n",
       "      <td id=\"T_72fec_row41_col0\" class=\"data row41 col0\" >{'C': 0.029763514416313176, 'kernel': 'rbf'}</td>\n",
       "      <td id=\"T_72fec_row41_col1\" class=\"data row41 col1\" >0.735875</td>\n",
       "      <td id=\"T_72fec_row41_col2\" class=\"data row41 col2\" >42</td>\n",
       "    </tr>\n",
       "    <tr>\n",
       "      <th id=\"T_72fec_level0_row42\" class=\"row_heading level0 row42\" >26</th>\n",
       "      <td id=\"T_72fec_row42_col0\" class=\"data row42 col0\" >{'C': 0.04832930238571752, 'kernel': 'poly'}</td>\n",
       "      <td id=\"T_72fec_row42_col1\" class=\"data row42 col1\" >0.705787</td>\n",
       "      <td id=\"T_72fec_row42_col2\" class=\"data row42 col2\" >43</td>\n",
       "    </tr>\n",
       "    <tr>\n",
       "      <th id=\"T_72fec_level0_row43\" class=\"row_heading level0 row43\" >4</th>\n",
       "      <td id=\"T_72fec_row43_col0\" class=\"data row43 col0\" >{'C': 0.001623776739188721, 'kernel': 'linear'}</td>\n",
       "      <td id=\"T_72fec_row43_col1\" class=\"data row43 col1\" >0.659316</td>\n",
       "      <td id=\"T_72fec_row43_col2\" class=\"data row43 col2\" >44</td>\n",
       "    </tr>\n",
       "    <tr>\n",
       "      <th id=\"T_72fec_level0_row44\" class=\"row_heading level0 row44\" >1</th>\n",
       "      <td id=\"T_72fec_row44_col0\" class=\"data row44 col0\" >{'C': 0.001, 'kernel': 'linear'}</td>\n",
       "      <td id=\"T_72fec_row44_col1\" class=\"data row44 col1\" >0.648586</td>\n",
       "      <td id=\"T_72fec_row44_col2\" class=\"data row44 col2\" >45</td>\n",
       "    </tr>\n",
       "    <tr>\n",
       "      <th id=\"T_72fec_level0_row45\" class=\"row_heading level0 row45\" >5</th>\n",
       "      <td id=\"T_72fec_row45_col0\" class=\"data row45 col0\" >{'C': 0.001623776739188721, 'kernel': 'poly'}</td>\n",
       "      <td id=\"T_72fec_row45_col1\" class=\"data row45 col1\" >0.529849</td>\n",
       "      <td id=\"T_72fec_row45_col2\" class=\"data row45 col2\" >46</td>\n",
       "    </tr>\n",
       "    <tr>\n",
       "      <th id=\"T_72fec_level0_row46\" class=\"row_heading level0 row46\" >9</th>\n",
       "      <td id=\"T_72fec_row46_col0\" class=\"data row46 col0\" >{'C': 0.004281332398719396, 'kernel': 'rbf'}</td>\n",
       "      <td id=\"T_72fec_row46_col1\" class=\"data row46 col1\" >0.514947</td>\n",
       "      <td id=\"T_72fec_row46_col2\" class=\"data row46 col2\" >47</td>\n",
       "    </tr>\n",
       "    <tr>\n",
       "      <th id=\"T_72fec_level0_row47\" class=\"row_heading level0 row47\" >2</th>\n",
       "      <td id=\"T_72fec_row47_col0\" class=\"data row47 col0\" >{'C': 0.001, 'kernel': 'poly'}</td>\n",
       "      <td id=\"T_72fec_row47_col1\" class=\"data row47 col1\" >0.514947</td>\n",
       "      <td id=\"T_72fec_row47_col2\" class=\"data row47 col2\" >47</td>\n",
       "    </tr>\n",
       "    <tr>\n",
       "      <th id=\"T_72fec_level0_row48\" class=\"row_heading level0 row48\" >3</th>\n",
       "      <td id=\"T_72fec_row48_col0\" class=\"data row48 col0\" >{'C': 0.001623776739188721, 'kernel': 'rbf'}</td>\n",
       "      <td id=\"T_72fec_row48_col1\" class=\"data row48 col1\" >0.514947</td>\n",
       "      <td id=\"T_72fec_row48_col2\" class=\"data row48 col2\" >47</td>\n",
       "    </tr>\n",
       "    <tr>\n",
       "      <th id=\"T_72fec_level0_row49\" class=\"row_heading level0 row49\" >6</th>\n",
       "      <td id=\"T_72fec_row49_col0\" class=\"data row49 col0\" >{'C': 0.0026366508987303583, 'kernel': 'rbf'}</td>\n",
       "      <td id=\"T_72fec_row49_col1\" class=\"data row49 col1\" >0.514947</td>\n",
       "      <td id=\"T_72fec_row49_col2\" class=\"data row49 col2\" >47</td>\n",
       "    </tr>\n",
       "    <tr>\n",
       "      <th id=\"T_72fec_level0_row50\" class=\"row_heading level0 row50\" >0</th>\n",
       "      <td id=\"T_72fec_row50_col0\" class=\"data row50 col0\" >{'C': 0.001, 'kernel': 'rbf'}</td>\n",
       "      <td id=\"T_72fec_row50_col1\" class=\"data row50 col1\" >0.514947</td>\n",
       "      <td id=\"T_72fec_row50_col2\" class=\"data row50 col2\" >47</td>\n",
       "    </tr>\n",
       "    <tr>\n",
       "      <th id=\"T_72fec_level0_row51\" class=\"row_heading level0 row51\" >12</th>\n",
       "      <td id=\"T_72fec_row51_col0\" class=\"data row51 col0\" >{'C': 0.0069519279617756054, 'kernel': 'rbf'}</td>\n",
       "      <td id=\"T_72fec_row51_col1\" class=\"data row51 col1\" >0.514947</td>\n",
       "      <td id=\"T_72fec_row51_col2\" class=\"data row51 col2\" >47</td>\n",
       "    </tr>\n",
       "    <tr>\n",
       "      <th id=\"T_72fec_level0_row52\" class=\"row_heading level0 row52\" >15</th>\n",
       "      <td id=\"T_72fec_row52_col0\" class=\"data row52 col0\" >{'C': 0.011288378916846888, 'kernel': 'rbf'}</td>\n",
       "      <td id=\"T_72fec_row52_col1\" class=\"data row52 col1\" >0.514947</td>\n",
       "      <td id=\"T_72fec_row52_col2\" class=\"data row52 col2\" >47</td>\n",
       "    </tr>\n",
       "    <tr>\n",
       "      <th id=\"T_72fec_level0_row53\" class=\"row_heading level0 row53\" >18</th>\n",
       "      <td id=\"T_72fec_row53_col0\" class=\"data row53 col0\" >{'C': 0.018329807108324356, 'kernel': 'rbf'}</td>\n",
       "      <td id=\"T_72fec_row53_col1\" class=\"data row53 col1\" >0.514947</td>\n",
       "      <td id=\"T_72fec_row53_col2\" class=\"data row53 col2\" >47</td>\n",
       "    </tr>\n",
       "    <tr>\n",
       "      <th id=\"T_72fec_level0_row54\" class=\"row_heading level0 row54\" >23</th>\n",
       "      <td id=\"T_72fec_row54_col0\" class=\"data row54 col0\" >{'C': 0.029763514416313176, 'kernel': 'poly'}</td>\n",
       "      <td id=\"T_72fec_row54_col1\" class=\"data row54 col1\" >0.475242</td>\n",
       "      <td id=\"T_72fec_row54_col2\" class=\"data row54 col2\" >55</td>\n",
       "    </tr>\n",
       "    <tr>\n",
       "      <th id=\"T_72fec_level0_row55\" class=\"row_heading level0 row55\" >11</th>\n",
       "      <td id=\"T_72fec_row55_col0\" class=\"data row55 col0\" >{'C': 0.004281332398719396, 'kernel': 'poly'}</td>\n",
       "      <td id=\"T_72fec_row55_col1\" class=\"data row55 col1\" >0.472394</td>\n",
       "      <td id=\"T_72fec_row55_col2\" class=\"data row55 col2\" >56</td>\n",
       "    </tr>\n",
       "    <tr>\n",
       "      <th id=\"T_72fec_level0_row56\" class=\"row_heading level0 row56\" >8</th>\n",
       "      <td id=\"T_72fec_row56_col0\" class=\"data row56 col0\" >{'C': 0.0026366508987303583, 'kernel': 'poly'}</td>\n",
       "      <td id=\"T_72fec_row56_col1\" class=\"data row56 col1\" >0.422926</td>\n",
       "      <td id=\"T_72fec_row56_col2\" class=\"data row56 col2\" >57</td>\n",
       "    </tr>\n",
       "    <tr>\n",
       "      <th id=\"T_72fec_level0_row57\" class=\"row_heading level0 row57\" >20</th>\n",
       "      <td id=\"T_72fec_row57_col0\" class=\"data row57 col0\" >{'C': 0.018329807108324356, 'kernel': 'poly'}</td>\n",
       "      <td id=\"T_72fec_row57_col1\" class=\"data row57 col1\" >0.307137</td>\n",
       "      <td id=\"T_72fec_row57_col2\" class=\"data row57 col2\" >58</td>\n",
       "    </tr>\n",
       "    <tr>\n",
       "      <th id=\"T_72fec_level0_row58\" class=\"row_heading level0 row58\" >14</th>\n",
       "      <td id=\"T_72fec_row58_col0\" class=\"data row58 col0\" >{'C': 0.0069519279617756054, 'kernel': 'poly'}</td>\n",
       "      <td id=\"T_72fec_row58_col1\" class=\"data row58 col1\" >0.305837</td>\n",
       "      <td id=\"T_72fec_row58_col2\" class=\"data row58 col2\" >59</td>\n",
       "    </tr>\n",
       "    <tr>\n",
       "      <th id=\"T_72fec_level0_row59\" class=\"row_heading level0 row59\" >17</th>\n",
       "      <td id=\"T_72fec_row59_col0\" class=\"data row59 col0\" >{'C': 0.011288378916846888, 'kernel': 'poly'}</td>\n",
       "      <td id=\"T_72fec_row59_col1\" class=\"data row59 col1\" >0.235003</td>\n",
       "      <td id=\"T_72fec_row59_col2\" class=\"data row59 col2\" >60</td>\n",
       "    </tr>\n",
       "  </tbody>\n",
       "</table>\n"
      ],
      "text/plain": [
       "<pandas.io.formats.style.Styler at 0x1a4d65218e0>"
      ]
     },
     "execution_count": 35,
     "metadata": {},
     "output_type": "execute_result"
    }
   ],
   "source": [
    "tabla_resultados = pd.DataFrame(modelos.cv_results_)[[\"params\", \"mean_test_score\", \"rank_test_score\"]]\n",
    "tabla_resultados.sort_values(\"rank_test_score\").style.bar(\"mean_test_score\")"
   ]
  },
  {
   "cell_type": "markdown",
   "metadata": {},
   "source": [
    "**f)** Con el mejor modelo, obtenga la matriz de confusión y reporte de clasificación en los datos de testeo. Comente comparativamente con los resultados anteriores ¿Hay evidencias de overfitting o underfitting?"
   ]
  },
  {
   "cell_type": "code",
   "execution_count": 36,
   "metadata": {},
   "outputs": [
    {
     "name": "stdout",
     "output_type": "stream",
     "text": [
      "              precision    recall  f1-score   support\n",
      "\n",
      "           0      1.000     0.942     0.970        52\n",
      "           1      0.941     1.000     0.970        48\n",
      "\n",
      "    accuracy                          0.970       100\n",
      "   macro avg      0.971     0.971     0.970       100\n",
      "weighted avg      0.972     0.970     0.970       100\n",
      "\n"
     ]
    },
    {
     "data": {
      "image/png": "[encoded data removed]",
      "text/plain": [
       "<Figure size 432x288 with 2 Axes>"
      ]
     },
     "metadata": {},
     "output_type": "display_data"
    }
   ],
   "source": [
    "from sklearn.metrics import classification_report, ConfusionMatrixDisplay\n",
    "\n",
    "mejor_modelo = modelos.best_estimator_.fit(X_train, y_train)\n",
    "y_pred = mejor_modelo.predict(X_test)\n",
    "\n",
    "print(classification_report(y_test, y_pred, digits=3))\n",
    "ConfusionMatrixDisplay.from_estimator(mejor_modelo, X_test, y_test);"
   ]
  },
  {
   "cell_type": "code",
   "execution_count": 38,
   "metadata": {},
   "outputs": [
    {
     "name": "stdout",
     "output_type": "stream",
     "text": [
      "Error medio   : 0.033049999999999996\n",
      "Sesgo medio   : 0.03\n",
      "Varianza media: 0.02015\n"
     ]
    }
   ],
   "source": [
    "error_medio, sesgo_medio, varianza_media = bias_variance_decomp(\n",
    "    estimator   = mejor_modelo,\n",
    "    X_train     = X_train.values,\n",
    "    X_test      = X_test.values,\n",
    "    y_train     = y_train.values,\n",
    "    y_test      = y_test.values,\n",
    "    random_seed = 2022\n",
    ")\n",
    "print(\"Error medio   :\", error_medio)\n",
    "print(\"Sesgo medio   :\", sesgo_medio)\n",
    "print(\"Varianza media:\", varianza_media)"
   ]
  },
  {
   "cell_type": "markdown",
   "metadata": {},
   "source": [
    "Notemos que el F1 de testeo es muy parecido al de validación cruzada, además es un valor aceptable. Esto indica que al parecer no hay problemas de overfitting ni underfitting. Esto se confirma también estimando sesgo y varianza."
   ]
  }
 ],
 "metadata": {
  "colab": {
   "collapsed_sections": [],
   "name": "04-Machine-Learning-Pipeline.ipynb",
   "provenance": [],
   "toc_visible": true
  },
  "kernelspec": {
   "display_name": "Python 3.9.12 ('default')",
   "language": "python",
   "name": "python3"
  },
  "language_info": {
   "codemirror_mode": {
    "name": "ipython",
    "version": 3
   },
   "file_extension": ".py",
   "mimetype": "text/x-python",
   "name": "python",
   "nbconvert_exporter": "python",
   "pygments_lexer": "ipython3",
   "version": "3.9.12"
  },
  "vscode": {
   "interpreter": {
    "hash": "3fb0f7d9ac85b35c4db44595658f206fada484d7743b0df944cbbd359afb2df3"
   }
  }
 },
 "nbformat": 4,
 "nbformat_minor": 4
}
